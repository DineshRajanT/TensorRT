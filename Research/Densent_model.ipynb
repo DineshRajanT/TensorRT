{
 "cells": [
  {
   "cell_type": "code",
   "execution_count": 4,
   "metadata": {
    "colab": {
     "base_uri": "https://localhost:8080/",
     "height": 102
    },
    "colab_type": "code",
    "id": "aSdwM4ppSnBT",
    "outputId": "8b395123-703c-47ae-aa49-c9f5ae79e748"
   },
   "outputs": [
    {
     "name": "stdout",
     "output_type": "stream",
     "text": [
      "Requirement already satisfied: torch in /usr/local/lib/python3.6/dist-packages (1.5.0+cu101)\n",
      "Requirement already satisfied: torchvision in /usr/local/lib/python3.6/dist-packages (0.6.0+cu101)\n",
      "Requirement already satisfied: numpy in /usr/local/lib/python3.6/dist-packages (from torch) (1.18.5)\n",
      "Requirement already satisfied: future in /usr/local/lib/python3.6/dist-packages (from torch) (0.16.0)\n",
      "Requirement already satisfied: pillow>=4.1.1 in /usr/local/lib/python3.6/dist-packages (from torchvision) (7.0.0)\n"
     ]
    }
   ],
   "source": [
    "!pip install torch torchvision"
   ]
  },
  {
   "cell_type": "code",
   "execution_count": 41,
   "metadata": {
    "colab": {
     "base_uri": "https://localhost:8080/",
     "height": 51
    },
    "colab_type": "code",
    "id": "L4VG60p6pU5D",
    "outputId": "7b686822-5f3d-4411-dfc4-e0b671c8f7d5"
   },
   "outputs": [
    {
     "name": "stdout",
     "output_type": "stream",
     "text": [
      "Drive already mounted at /gdrive; to attempt to forcibly remount, call drive.mount(\"/gdrive\", force_remount=True).\n",
      "/gdrive\n"
     ]
    }
   ],
   "source": [
    "from google.colab import drive\n",
    "drive.mount('/gdrive')\n",
    "%cd /gdrive"
   ]
  },
  {
   "cell_type": "code",
   "execution_count": 42,
   "metadata": {
    "colab": {
     "base_uri": "https://localhost:8080/",
     "height": 34
    },
    "colab_type": "code",
    "id": "pnoVEm18G8ev",
    "outputId": "d41a9b5d-8bdc-42c5-ae07-26481ab0bb8c"
   },
   "outputs": [
    {
     "name": "stdout",
     "output_type": "stream",
     "text": [
      "/gdrive/My Drive/Adagrad\n"
     ]
    }
   ],
   "source": [
    "cd My Drive/Adagrad"
   ]
  },
  {
   "cell_type": "code",
   "execution_count": 44,
   "metadata": {
    "colab": {},
    "colab_type": "code",
    "id": "aPlzcx0k2aeS"
   },
   "outputs": [],
   "source": [
    "#  cd gdrive/My Drive/Adagrad"
   ]
  },
  {
   "cell_type": "code",
   "execution_count": 45,
   "metadata": {
    "colab": {
     "base_uri": "https://localhost:8080/",
     "height": 34
    },
    "colab_type": "code",
    "id": "npPi-zY2fCZ1",
    "outputId": "7fe00f05-c944-4025-f55c-26c5ee6ea540"
   },
   "outputs": [
    {
     "data": {
      "text/plain": [
       "'/gdrive/My Drive/Adagrad'"
      ]
     },
     "execution_count": 45,
     "metadata": {
      "tags": []
     },
     "output_type": "execute_result"
    }
   ],
   "source": [
    "pwd"
   ]
  },
  {
   "cell_type": "code",
   "execution_count": 9,
   "metadata": {
    "colab": {},
    "colab_type": "code",
    "id": "OoTBgemVSw1W"
   },
   "outputs": [],
   "source": [
    "import torch\n",
    "import torch.nn as nn\n",
    "import math"
   ]
  },
  {
   "cell_type": "code",
   "execution_count": 10,
   "metadata": {
    "colab": {},
    "colab_type": "code",
    "id": "tfkTzl8cZria"
   },
   "outputs": [],
   "source": [
    "#All Torch Imports here\n",
    "\n",
    "import torch #PyTorch \n",
    "import torchvision\n",
    "from torchvision import datasets,transforms     #To get the CIFAR10 dataset and Transforms to apply transformations on the data\n",
    "from torch import nn,optim    #import NN and Optimizer here\n",
    "from torch.nn import functional as F\n",
    "from torch.utils.data import DataLoader,sampler,random_split \n",
    "from torchvision import models\n",
    "from torch.utils.data.sampler import SubsetRandomSampler"
   ]
  },
  {
   "cell_type": "code",
   "execution_count": 11,
   "metadata": {
    "colab": {
     "base_uri": "https://localhost:8080/",
     "height": 51
    },
    "colab_type": "code",
    "id": "XNEvI1ItZuO9",
    "outputId": "70197cbc-4290-4d52-cf21-7c23a60d4e85"
   },
   "outputs": [
    {
     "name": "stderr",
     "output_type": "stream",
     "text": [
      "/usr/local/lib/python3.6/dist-packages/statsmodels/tools/_testing.py:19: FutureWarning: pandas.util.testing is deprecated. Use the functions in the public API at pandas.testing instead.\n",
      "  import pandas.util.testing as tm\n"
     ]
    }
   ],
   "source": [
    "import matplotlib.pyplot as plt\n",
    "import seaborn as sns\n",
    "import pandas as pd\n",
    "import numpy as np"
   ]
  },
  {
   "cell_type": "code",
   "execution_count": 12,
   "metadata": {
    "colab": {
     "base_uri": "https://localhost:8080/",
     "height": 34
    },
    "colab_type": "code",
    "id": "IzNSFRvATNfx",
    "outputId": "0b82e795-c535-48d2-9f24-f5218150ab43"
   },
   "outputs": [
    {
     "name": "stdout",
     "output_type": "stream",
     "text": [
      "1.5.0+cu101\n"
     ]
    }
   ],
   "source": [
    "print(torch.__version__)"
   ]
  },
  {
   "cell_type": "code",
   "execution_count": 13,
   "metadata": {
    "colab": {
     "base_uri": "https://localhost:8080/",
     "height": 153
    },
    "colab_type": "code",
    "id": "EUaDVUgMdqI9",
    "outputId": "2f7e287d-59b4-469b-f4cf-7dd7336d26c6"
   },
   "outputs": [
    {
     "name": "stdout",
     "output_type": "stream",
     "text": [
      "Collecting pytorch-ignite\n",
      "\u001b[?25l  Downloading https://files.pythonhosted.org/packages/35/55/41e8a995876fd2ade29bdba0c3efefa38e7d605cb353c70f3173c04928b5/pytorch_ignite-0.3.0-py2.py3-none-any.whl (103kB)\n",
      "\r",
      "\u001b[K     |███▏                            | 10kB 20.3MB/s eta 0:00:01\r",
      "\u001b[K     |██████▎                         | 20kB 4.3MB/s eta 0:00:01\r",
      "\u001b[K     |█████████▌                      | 30kB 6.1MB/s eta 0:00:01\r",
      "\u001b[K     |████████████▋                   | 40kB 7.8MB/s eta 0:00:01\r",
      "\u001b[K     |███████████████▉                | 51kB 5.1MB/s eta 0:00:01\r",
      "\u001b[K     |███████████████████             | 61kB 5.9MB/s eta 0:00:01\r",
      "\u001b[K     |██████████████████████▏         | 71kB 6.0MB/s eta 0:00:01\r",
      "\u001b[K     |█████████████████████████▎      | 81kB 6.4MB/s eta 0:00:01\r",
      "\u001b[K     |████████████████████████████▍   | 92kB 6.0MB/s eta 0:00:01\r",
      "\u001b[K     |███████████████████████████████▋| 102kB 6.6MB/s eta 0:00:01\r",
      "\u001b[K     |████████████████████████████████| 112kB 6.6MB/s \n",
      "\u001b[?25hRequirement already satisfied: torch in /usr/local/lib/python3.6/dist-packages (from pytorch-ignite) (1.5.0+cu101)\n",
      "Requirement already satisfied: future in /usr/local/lib/python3.6/dist-packages (from torch->pytorch-ignite) (0.16.0)\n",
      "Requirement already satisfied: numpy in /usr/local/lib/python3.6/dist-packages (from torch->pytorch-ignite) (1.18.5)\n",
      "Installing collected packages: pytorch-ignite\n",
      "Successfully installed pytorch-ignite-0.3.0\n"
     ]
    }
   ],
   "source": [
    "!pip install pytorch-ignite"
   ]
  },
  {
   "cell_type": "code",
   "execution_count": 14,
   "metadata": {
    "colab": {},
    "colab_type": "code",
    "id": "DfxK0S81dqGb"
   },
   "outputs": [],
   "source": [
    "from ignite.engine import Engine,Events,create_supervised_trainer,create_supervised_evaluator\n",
    "from ignite.metrics import Accuracy,Loss,ConfusionMatrix,RunningAverage\n",
    "from ignite.handlers import EarlyStopping,ModelCheckpoint"
   ]
  },
  {
   "cell_type": "code",
   "execution_count": 15,
   "metadata": {
    "colab": {},
    "colab_type": "code",
    "id": "GuvUQK46cPA6"
   },
   "outputs": [],
   "source": [
    "device = torch.device(\"cuda:0\" if torch.cuda.is_available() else \"cpu\")"
   ]
  },
  {
   "cell_type": "code",
   "execution_count": 16,
   "metadata": {
    "colab": {
     "base_uri": "https://localhost:8080/",
     "height": 34
    },
    "colab_type": "code",
    "id": "ZXLLWt2Z89P0",
    "outputId": "b1e4f4da-49b4-4d52-82e8-fc56d5b3334c"
   },
   "outputs": [
    {
     "name": "stdout",
     "output_type": "stream",
     "text": [
      "cuda:0\n"
     ]
    }
   ],
   "source": [
    "print(device)"
   ]
  },
  {
   "cell_type": "code",
   "execution_count": 17,
   "metadata": {
    "colab": {},
    "colab_type": "code",
    "id": "si0mX6N5VJtl"
   },
   "outputs": [],
   "source": [
    "import torch\n",
    "import torch.nn as nn\n",
    "import math\n",
    "\n",
    "class Dense_Block_Transposed(nn.Module):\n",
    " \n",
    "  def __init__(self, in_channels):\n",
    "    super(Dense_Block_Transposed, self).__init__()\n",
    "    self.leaky_relu = nn.LeakyReLU(inplace = True)\n",
    "    self.bn = nn.BatchNorm2d(num_features = in_channels)\n",
    " \n",
    "    self.conv1 = nn.ConvTranspose2d(in_channels = in_channels, out_channels = 32, kernel_size = 3, stride = 1, padding = 1)\n",
    "    self.conv2 = nn.ConvTranspose2d(in_channels = 32, out_channels = 32, kernel_size = 3, stride = 1, padding = 1)\n",
    "    self.conv3 = nn.ConvTranspose2d(in_channels = 64, out_channels = 32, kernel_size = 3, stride = 1, padding = 1)\n",
    "    self.conv4 = nn.ConvTranspose2d(in_channels = 96, out_channels = 32, kernel_size = 3, stride = 1, padding = 1)\n",
    "    self.conv5 = nn.ConvTranspose2d(in_channels = 128, out_channels = 32, kernel_size = 3, stride = 1, padding = 1);self.conv6 = nn.ConvTranspose2d(in_channels = 160, out_channels = 32, kernel_size = 3, stride = 1, padding = 1)\n",
    " \n",
    "  def forward(self, x):\n",
    "\t\t\tbn = self.bn(x)\n",
    "\t\t\tconv1 = self.leaky_relu(self.conv1(bn))\n",
    "\t\t\tconv2 = self.leaky_relu(self.conv2(conv1))\n",
    "\t\t\tc2_dense = self.leaky_relu(torch.cat([conv1, conv2], 1))\n",
    "\t\t\tconv3 = self.leaky_relu(self.conv3(c2_dense))\n",
    "\t\t\tc3_dense = self.leaky_relu(torch.cat([conv1, conv2, conv3], 1))\n",
    "\t\t\tconv4 = self.leaky_relu(self.conv4(c3_dense))\n",
    "\t\t\tc4_dense = self.leaky_relu(torch.cat([conv1, conv2, conv3, conv4], 1))\n",
    "\t\t\tconv5 = self.leaky_relu(self.conv5(c4_dense))\n",
    "\t\t\tc5_dense = self.leaky_relu(torch.cat([conv1, conv2, conv3, conv4, conv5], 1))\n",
    "\t\t\t# conv6 = self.leaky_relu(self.conv6(c5_dense))\n",
    "\t\t\t# c6_dense = self.leaky_relu(torch.cat([conv1, conv2, conv3, conv4, conv5,conv6], 1))\n",
    "\t\t\treturn c5_dense\n",
    "\n",
    "\n",
    "class Transition_Layer(nn.Module):\n",
    "\tdef __init__(self, in_channels, out_channels):\n",
    "\t\tsuper(Transition_Layer, self).__init__()\n",
    "\n",
    "\t\tself.leaky_relu = nn.LeakyReLU(inplace = True)\n",
    "\t\tself.bn = nn.BatchNorm2d(num_features = out_channels)\n",
    "\t\tself.conv = nn.ConvTranspose2d(in_channels = in_channels, out_channels = out_channels, kernel_size = 1, bias = False)\n",
    "\t\tself.avg_pool = nn.AvgPool2d(kernel_size = 2, stride = 2, padding = 0)\n",
    "\n",
    "\tdef forward(self, x):\n",
    "\n",
    "\t\tbn = self.bn(self.leaky_relu(self.conv(x)))\n",
    "\t\tout = self.avg_pool(bn)\n",
    "\n",
    "\t\treturn out\n",
    "\n",
    "\n",
    "class DenseNet(nn.Module):\n",
    "\tdef __init__(self, nr_classes):\n",
    "\t\tsuper(DenseNet, self).__init__()\n",
    "\n",
    "\t\tself.lowconv = nn.ConvTranspose2d(in_channels = 3, out_channels = 64, kernel_size = 7, padding = 3, bias = False)\n",
    "\t\tself.leaky_relu = nn.LeakyReLU()\n",
    "\n",
    "\t\t# Make Dense Blocks\n",
    "\t\tself.denseblock1 = self._make_dense_block(Dense_Block_Transposed, 64)\n",
    "\t\tself.denseblock2 = self._make_dense_block(Dense_Block_Transposed, 128)\n",
    "\t\tself.denseblock3 = self._make_dense_block(Dense_Block_Transposed, 128)\n",
    "\t\t# self.denseblock4 = self._make_dense_block(Dense_Block_Transposed, 128)\n",
    "\n",
    "\t\t# Make transition Layers\n",
    "\t\tself.transitionLayer1 = self._make_transition_layer(Transition_Layer, in_channels = 160, out_channels = 128)\n",
    "\t\tself.transitionLayer2 = self._make_transition_layer(Transition_Layer, in_channels = 160, out_channels = 128)\n",
    "\t\tself.transitionLayer3 = self._make_transition_layer(Transition_Layer, in_channels = 160, out_channels = 64)\n",
    "\t\t# self.transitionLayer4 = self._make_transition_layer(Transition_Layer, in_channels = 160, out_channels = 64)\n",
    "\n",
    "\t\t# Classifier\n",
    "\t\tself.bn = nn.BatchNorm2d(num_features = 64)\n",
    "\t\tself.pre_classifier = nn.Linear(64*4*4, 512)\n",
    "\t\tself.classifier = nn.Linear(512, nr_classes)\n",
    "\n",
    "\tdef _make_dense_block(self, block, in_channels):\n",
    "\t\tlayers = []\n",
    "\t\tlayers.append(block(in_channels))\n",
    "\t\treturn nn.Sequential(*layers)\n",
    "\n",
    "\tdef _make_transition_layer(self, layer, in_channels, out_channels):\n",
    "\t\tmodules = []\n",
    "\t\tmodules.append(layer(in_channels, out_channels))\n",
    "\t\treturn nn.Sequential(*modules)\n",
    "\n",
    "\tdef forward(self, x):\n",
    "\t\tout = self.leaky_relu(self.lowconv(x))\n",
    "\n",
    "\t\tout = self.denseblock1(out)\n",
    "\t\tout = self.transitionLayer1(out)\n",
    "\n",
    "\t\tout = self.denseblock2(out)\n",
    "\t\tout = self.transitionLayer2(out)\n",
    "\n",
    "\t\tout = self.denseblock3(out)\n",
    "\t\tout = self.transitionLayer3(out)\n",
    "\t\n",
    "\t\t# out = self.denseblock4(out)\n",
    "\t\t# out = self.transitionLayer4(out)\n",
    "    \n",
    "\t\tout = self.bn(out)\n",
    "\t\tout = out.view(-1, 64*4*4)\n",
    "\n",
    "\t\tout = self.pre_classifier(out)\n",
    "\t\tout = self.classifier(out)\n",
    "\n",
    "\t\treturn out"
   ]
  },
  {
   "cell_type": "code",
   "execution_count": 18,
   "metadata": {
    "colab": {},
    "colab_type": "code",
    "id": "GBdeAJ9ZaZUh"
   },
   "outputs": [],
   "source": [
    "#I can simply do like this and import the model...but I wanna know the working of the layers....and I also tried \n",
    "#Transposed Conv here....but in the original paper there were only noraml Conv2d layers.....I just want to experiment with things...\n",
    "\n",
    "\n",
    "# model=models.densenet169(pretrained=False)"
   ]
  },
  {
   "cell_type": "code",
   "execution_count": 18,
   "metadata": {
    "colab": {},
    "colab_type": "code",
    "id": "g-uQFAX-EXDC"
   },
   "outputs": [],
   "source": []
  },
  {
   "cell_type": "code",
   "execution_count": 19,
   "metadata": {
    "colab": {},
    "colab_type": "code",
    "id": "a-jWV3ERmqH6"
   },
   "outputs": [],
   "source": [
    "\n",
    "classes = ('plane', 'car', 'bird', 'cat',\n",
    "           'deer', 'dog', 'frog', 'horse', 'ship', 'truck')"
   ]
  },
  {
   "cell_type": "code",
   "execution_count": 19,
   "metadata": {
    "colab": {},
    "colab_type": "code",
    "id": "JOsU29iyaVeS"
   },
   "outputs": [],
   "source": []
  },
  {
   "cell_type": "code",
   "execution_count": 20,
   "metadata": {
    "colab": {},
    "colab_type": "code",
    "id": "mH_LVMqTEXKs"
   },
   "outputs": [],
   "source": [
    "import time\n",
    "import torch.optim as optim\n",
    "from torch.autograd import Variable\n",
    "\n",
    "# GPU flag\n",
    "use_gpu = torch.cuda.is_available()\n",
    "\n",
    "# Hyperparameters\n",
    "batch_size = 200\n",
    "momentum = 0.95\n",
    "learning_rate = 0.001\n",
    "nr_classes = 10\n",
    "nr_epochs = 100\n",
    "loss_vctr = []\n",
    "\n",
    "# Load the model on the GPU\n",
    "densenet = DenseNet(nr_classes)\n",
    "if use_gpu:\n",
    "  densenet.cuda()\n"
   ]
  },
  {
   "cell_type": "code",
   "execution_count": 23,
   "metadata": {
    "colab": {},
    "colab_type": "code",
    "id": "s9e9EiACYcFY"
   },
   "outputs": [],
   "source": [
    "\n",
    "from torch.utils.data.sampler import SubsetRandomSampler\n",
    "def get_train_valid_loader(batch_size,\n",
    "                        \n",
    "                           valid_size=0.2,\n",
    "                           shuffle=True,\n",
    "                           num_workers=4,\n",
    "                           pin_memory=False):\n",
    "    \"\"\"\n",
    "    If using CUDA, num_workers should be set to 1 and pin_memory to True.\n",
    "    Params\n",
    "    - data_dir: path directory to the dataset.\n",
    "    - batch_size: how many samples per batch to load.\n",
    "    - augment: whether to apply the data augmentation scheme\n",
    "      mentioned in the paper. Only applied on the train split.\n",
    "    - random_seed: fix seed for reproducibility.\n",
    "    - valid_size: percentage split of the training set used for\n",
    "      the validation set. Should be a float in the range [0, 1].\n",
    "    - shuffle: whether to shuffle the train/validation indices.\n",
    "    - show_sample: plot 9x9 sample grid of the dataset.\n",
    "    - num_workers: number of subprocesses to use when loading the dataset.\n",
    "    - pin_memory: whether to copy tensors into CUDA pinned memory. Set it to\n",
    "      True if using GPU.\n",
    "    Returns\n",
    "    \n",
    "    - train_loader: training set iterator.\n",
    "    - valid_loader: validation set iterator.\n",
    "    \"\"\"\n",
    "  \n",
    "\n",
    "    # normalize = transforms.Normalize(\n",
    "    #     mean=[0.4914, 0.4822, 0.4465],\n",
    "    #     std=[0.2023, 0.1994, 0.2010],\n",
    "    # )\n",
    "\n",
    "    # define transforms\n",
    "    # valid_transform = transforms.Compose([\n",
    "    #         transforms.Resize(255),\n",
    "    #         transforms.CenterCrop(224),\n",
    "    #         transforms.ToTensor(),\n",
    "    #         normalize,\n",
    "    # ])\n",
    "\n",
    "    transform = transforms.Compose([\n",
    "                transforms.RandomHorizontalFlip(),\n",
    "                transforms.ToTensor(),\n",
    "                transforms.Normalize(mean=[0.485, 0.456, 0.406],std=[0.229, 0.224, 0.225])])\n",
    "        \n",
    "\n",
    "\n",
    "    # train_dataset = datasets.CIFAR10(\n",
    "    #     root=data_dir, train=True,\n",
    "    #     download=True, transform=train_transform,\n",
    "    # )\n",
    "\n",
    "    # valid_dataset = datasets.CIFAR10(\n",
    "    #     root=data_dir, train=True,\n",
    "    #     download=True, transform=valid_transform,\n",
    "    # )\n",
    "\n",
    "    train_dataset = torchvision.datasets.CIFAR10(root='/data', train=True,\n",
    "                                        download=True, transform=transform)\n",
    "    valid_dataset = torchvision.datasets.CIFAR10(root='/data', train=True,\n",
    "                                        download=True, transform=transform)\n",
    "\n",
    "    num_train = len(train_dataset)\n",
    "    print(num_train)\n",
    "    indices = list(range(num_train))\n",
    "    split = int(np.floor(valid_size * num_train))\n",
    "\n",
    "    if shuffle:\n",
    "        # np.random.seed(random_seed)\n",
    "        np.random.shuffle(indices)\n",
    "\n",
    "    train_idx, valid_idx = indices[split:], indices[:split]\n",
    "    train_sampler = SubsetRandomSampler(train_idx)\n",
    "    valid_sampler = SubsetRandomSampler(valid_idx)\n",
    "\n",
    "    train_loader = torch.utils.data.DataLoader(\n",
    "        train_dataset, batch_size=batch_size, sampler=train_sampler,\n",
    "        num_workers=num_workers, pin_memory=pin_memory,\n",
    "    )\n",
    "    valid_loader = torch.utils.data.DataLoader(\n",
    "        valid_dataset, batch_size=batch_size, sampler=valid_sampler,\n",
    "        num_workers=num_workers, pin_memory=pin_memory,\n",
    "    )\n",
    "\n",
    "\n",
    "    return (train_loader, valid_loader)\n",
    "\n",
    "\n",
    "def get_test_loader(batch_size,\n",
    "                    shuffle=True,\n",
    "                    num_workers=1,\n",
    "                    pin_memory=False):\n",
    "    \"\"\"\n",
    "    If using CUDA, num_workers should be set to 1 and pin_memory to True.\n",
    "    Params\n",
    "    ------\n",
    "    - data_dir: path directory to the dataset.\n",
    "    - batch_size: how many samples per batch to load.\n",
    "    - shuffle: whether to shuffle the dataset after every epoch.\n",
    "    - num_workers: number of subprocesses to use when loading the dataset.\n",
    "    - pin_memory: whether to copy tensors into CUDA pinned memory. Set it to\n",
    "      True if using GPU.\n",
    "    Returns\n",
    "    -------\n",
    "    - data_loader: test set iterator.\n",
    "    \"\"\"\n",
    "    # normalize = transforms.Normalize(\n",
    "    #     mean=[0.485, 0.456, 0.406],\n",
    "    #     std=[0.229, 0.224, 0.225],\n",
    "    # )\n",
    "\n",
    "    # define transform\n",
    "    # test_transform = transforms.Compose([\n",
    "    #     transforms.ToTensor(),\n",
    "    #     normalize,\n",
    "    # ])\n",
    "    test_transform = transforms.Compose([\n",
    "              \n",
    "                transforms.ToTensor(),\n",
    "                transforms.Normalize(mean=[0.485, 0.456, 0.406],std=[0.229, 0.224, 0.225])])\n",
    "        \n",
    "\n",
    "    test_dataset = torchvision.datasets.CIFAR10(root='/data', train=False,\n",
    "                                        download=True, transform=test_transform)\n",
    "\n",
    "    data_loader = torch.utils.data.DataLoader(\n",
    "        test_dataset, batch_size=batch_size, shuffle=shuffle,\n",
    "        num_workers=num_workers, pin_memory=pin_memory,\n",
    "    )\n",
    "\n",
    "    return data_loader"
   ]
  },
  {
   "cell_type": "code",
   "execution_count": 24,
   "metadata": {
    "colab": {
     "base_uri": "https://localhost:8080/",
     "height": 117,
     "referenced_widgets": [
      "78e32bc299794fb0aa1752a48711920d",
      "cf7b45c1b9f84dd3aa4cd597bea32959",
      "85d55b4c648348c7aee9744735884d79",
      "e527edfb95744277be46cab54d81e107",
      "78412d30033d404ab0b35ecabb25b9f9",
      "9e7d95bb37334bd3b5ef15e43261e5f6",
      "9618d6f7730d403d810e5cadf3a80ece",
      "b4335aa5a9694e95b742247af8c034f3"
     ]
    },
    "colab_type": "code",
    "id": "2aSI9rDsYkBn",
    "outputId": "b4b79eb9-18b7-4702-9ba3-0d313498b435"
   },
   "outputs": [
    {
     "name": "stdout",
     "output_type": "stream",
     "text": [
      "Downloading https://www.cs.toronto.edu/~kriz/cifar-10-python.tar.gz to /data/cifar-10-python.tar.gz\n"
     ]
    },
    {
     "data": {
      "application/vnd.jupyter.widget-view+json": {
       "model_id": "78e32bc299794fb0aa1752a48711920d",
       "version_major": 2,
       "version_minor": 0
      },
      "text/plain": [
       "HBox(children=(FloatProgress(value=1.0, bar_style='info', max=1.0), HTML(value='')))"
      ]
     },
     "metadata": {
      "tags": []
     },
     "output_type": "display_data"
    },
    {
     "name": "stdout",
     "output_type": "stream",
     "text": [
      "Extracting /data/cifar-10-python.tar.gz to /data\n",
      "Files already downloaded and verified\n",
      "50000\n"
     ]
    }
   ],
   "source": [
    "(train_loader, valid_loader)=get_train_valid_loader(batch_size=batch_size,\n",
    "                              valid_size=0.2,\n",
    "                              shuffle=True,\n",
    "                              num_workers=1,\n",
    "                              pin_memory=True)"
   ]
  },
  {
   "cell_type": "code",
   "execution_count": 25,
   "metadata": {
    "colab": {
     "base_uri": "https://localhost:8080/",
     "height": 34
    },
    "colab_type": "code",
    "id": "ijF8jKFwYkEV",
    "outputId": "38cc917f-5eb2-4a80-b6fb-f2508e01626b"
   },
   "outputs": [
    {
     "name": "stdout",
     "output_type": "stream",
     "text": [
      "Files already downloaded and verified\n"
     ]
    }
   ],
   "source": [
    "test_loader= get_test_loader(batch_size=batch_size,\n",
    "                    shuffle=True,\n",
    "                    num_workers=4,\n",
    "                    pin_memory=True)"
   ]
  },
  {
   "cell_type": "code",
   "execution_count": 26,
   "metadata": {
    "colab": {},
    "colab_type": "code",
    "id": "Vtq9UMPEhib5"
   },
   "outputs": [],
   "source": [
    "device=torch.device(\"cuda\" if torch.cuda.is_available else \"cpu\")"
   ]
  },
  {
   "cell_type": "code",
   "execution_count": 27,
   "metadata": {
    "colab": {
     "base_uri": "https://localhost:8080/",
     "height": 34
    },
    "colab_type": "code",
    "id": "kegQ6HYGhjK1",
    "outputId": "fd1e6246-600e-43ef-b01b-5d62fd368a9a"
   },
   "outputs": [
    {
     "data": {
      "text/plain": [
       "device(type='cuda')"
      ]
     },
     "execution_count": 27,
     "metadata": {
      "tags": []
     },
     "output_type": "execute_result"
    }
   ],
   "source": [
    "device"
   ]
  },
  {
   "cell_type": "code",
   "execution_count": 28,
   "metadata": {
    "colab": {
     "base_uri": "https://localhost:8080/",
     "height": 585
    },
    "colab_type": "code",
    "id": "MPVShCF4YqZ4",
    "outputId": "dc1b4c5c-3c4e-4490-e4f8-94c04f9f9425"
   },
   "outputs": [
    {
     "name": "stderr",
     "output_type": "stream",
     "text": [
      "Clipping input data to the valid range for imshow with RGB data ([0..1] for floats or [0..255] for integers).\n",
      "Clipping input data to the valid range for imshow with RGB data ([0..1] for floats or [0..255] for integers).\n",
      "Clipping input data to the valid range for imshow with RGB data ([0..1] for floats or [0..255] for integers).\n",
      "Clipping input data to the valid range for imshow with RGB data ([0..1] for floats or [0..255] for integers).\n",
      "Clipping input data to the valid range for imshow with RGB data ([0..1] for floats or [0..255] for integers).\n",
      "Clipping input data to the valid range for imshow with RGB data ([0..1] for floats or [0..255] for integers).\n",
      "Clipping input data to the valid range for imshow with RGB data ([0..1] for floats or [0..255] for integers).\n",
      "Clipping input data to the valid range for imshow with RGB data ([0..1] for floats or [0..255] for integers).\n",
      "Clipping input data to the valid range for imshow with RGB data ([0..1] for floats or [0..255] for integers).\n",
      "Clipping input data to the valid range for imshow with RGB data ([0..1] for floats or [0..255] for integers).\n"
     ]
    },
    {
     "data": {
      "image/png": "[encoded data removed]",
      "text/plain": [
       "<Figure size 720x720 with 10 Axes>"
      ]
     },
     "metadata": {
      "tags": []
     },
     "output_type": "display_data"
    }
   ],
   "source": [
    "data_iter=iter(train_loader)\n",
    "images,labels=data_iter.next()\n",
    "fig=plt.figure(figsize=(15,15))\n",
    "for i in np.arange(10):\n",
    "  axes= fig.add_subplot(2,15/2,i+1,xticks=[],yticks=[])\n",
    "  plt.imshow(np.transpose(images[i],(1,2,0)))\n",
    "  axes.set_title(classes[labels[i]])\n",
    "\n"
   ]
  },
  {
   "cell_type": "code",
   "execution_count": 29,
   "metadata": {
    "colab": {},
    "colab_type": "code",
    "id": "kzv_NgJRZWEa"
   },
   "outputs": [],
   "source": [
    "\n",
    "# start = time.time()\n",
    "\n",
    "# Oprimization Criteria and Optimization method\n",
    "criterion = nn.CrossEntropyLoss().cuda() if use_gpu else nn.CrossEntropyLoss()\n",
    "optimizer = optim.SGD(densenet.parameters(), lr=learning_rate, momentum=momentum, nesterov = False)\n"
   ]
  },
  {
   "cell_type": "code",
   "execution_count": 30,
   "metadata": {
    "colab": {},
    "colab_type": "code",
    "id": "VhjvmA72bkb6"
   },
   "outputs": [],
   "source": [
    "training_history={'Accuracy':[],'Loss':[]}\n",
    "validation_history={'Accuracy':[],'Loss':[]}"
   ]
  },
  {
   "cell_type": "code",
   "execution_count": 31,
   "metadata": {
    "colab": {},
    "colab_type": "code",
    "id": "PFk4DCQDbkg_"
   },
   "outputs": [],
   "source": [
    "trainer=create_supervised_trainer(densenet,optimizer,criterion,device=device)\n",
    "# print(trainer.)\n",
    "evaluator=create_supervised_evaluator(densenet,\n",
    "                                      device=device,\n",
    "                                      metrics={\n",
    "                                          'Accuracy':Accuracy(),\n",
    "                                          'Loss':Loss(criterion),\n",
    "                                          'Confusion_Matrix':ConfusionMatrix(len(classes))\n",
    "    \n",
    "\n",
    "})"
   ]
  },
  {
   "cell_type": "code",
   "execution_count": 32,
   "metadata": {
    "colab": {},
    "colab_type": "code",
    "id": "hBZj9mb9bkmA"
   },
   "outputs": [],
   "source": [
    "@trainer.on(Events.ITERATION_COMPLETED)\n",
    "def log_a_dot(engine):\n",
    "  print(\".\",end=\" \")\n",
    "\n",
    "@trainer.on(Events.EPOCH_COMPLETED)\n",
    "def log_training_results(trainer):\n",
    "  evaluator.run(train_loader)\n",
    "  metrics=evaluator.state.metrics\n",
    "  accuracy = metrics['Accuracy']*100\n",
    "  loss=metrics['Loss']\n",
    "  training_history['Accuracy'].append(accuracy)\n",
    "  training_history['Loss'].append(loss)\n",
    "  print()\n",
    "  print(f\"Training Results - Epoch : {trainer.state.epoch}    Avg accuracy : {accuracy}    Loss: {loss}\")\n",
    "\n",
    "\n",
    "\n",
    "@trainer.on(Events.EPOCH_COMPLETED)\n",
    "def log_validation_results(trainer):\n",
    "  evaluator.run(valid_loader)\n",
    "  metrics=evaluator.state.metrics\n",
    "  accuracy = metrics['Accuracy']*100\n",
    "  loss=metrics['Loss']\n",
    "  validation_history['Accuracy'].append(accuracy)\n",
    "  validation_history['Loss'].append(loss)\n",
    "  print()\n",
    "  print(f\"Validation Results - Epoch : {trainer.state.epoch}    Avg accuracy : {accuracy}    Loss: {loss}\")"
   ]
  },
  {
   "cell_type": "code",
   "execution_count": null,
   "metadata": {
    "colab": {},
    "colab_type": "code",
    "id": "C8rMFHC1iZq_"
   },
   "outputs": [],
   "source": [
    "# torch.cuda.empty_cache()"
   ]
  },
  {
   "cell_type": "code",
   "execution_count": 34,
   "metadata": {
    "colab": {
     "base_uri": "https://localhost:8080/",
     "height": 1000
    },
    "colab_type": "code",
    "id": "3DddLHY4bkvy",
    "outputId": "8016e260-4b29-4269-cbe5-622ded46e817"
   },
   "outputs": [
    {
     "name": "stdout",
     "output_type": "stream",
     "text": [
      ". . . . . . . . . . . . . . . . . . . . . . . . . . . . . . . . . . . . . . . . . . . . . . . . . . . . . . \n",
      "Training Results - Epoch : 70    Avg accuracy : 100.0    Loss: 0.001216705976985395\n",
      "\n",
      "Validation Results - Epoch : 70    Avg accuracy : 81.16    Loss: 1.0208903563022613\n",
      ". . . . . . . . . . . . . . . . . . . . . . . . . . . . . . . . . . . . . . . . . . . . . . . . . . . . . . . . . . . . . . . . . . . . . . . . . . . . . . . . . . . . . . . . . . . . . . . . . . . . . . . . . . . . . . . . . . . . . . . . . . . . . . . . . . . . . . . . . . . . . . . . . . . . . . . . . . . . . . . . . . . . . . . . . . . . . . . . . . . . . . . . . . . . . . . . . . . . . . . . \n",
      "Training Results - Epoch : 71    Avg accuracy : 100.0    Loss: 0.0011028874508338048\n",
      "\n",
      "Validation Results - Epoch : 71    Avg accuracy : 81.10000000000001    Loss: 1.027787103652954\n",
      ". . . . . . . . . . . . . . . . . . . . . . . . . . . . . . . . . . . . . . . . . . . . . . . . . . . . . . . . . . . . . . . . . . . . . . . . . . . . . . . . . . . . . . . . . . . . . . . . . . . . . . . . . . . . . . . . . . . . . . . . . . . . . . . . . . . . . . . . . . . . . . . . . . . . . . . . . . . . . . . . . . . . . . . . . . . . . . . . . . . . . . . . . . . . . . . . . . . . . . . . \n",
      "Training Results - Epoch : 72    Avg accuracy : 100.0    Loss: 0.0010233213205356152\n",
      "\n",
      "Validation Results - Epoch : 72    Avg accuracy : 81.12    Loss: 1.0283588409423827\n",
      ". . . . . . . . . . . . . . . . . . . . . . . . . . . . . . . . . . . . . . . . . . . . . . . . . . . . . . . . . . . . . . . . . . . . . . . . . . . . . . . . . . . . . . . . . . . . . . . . . . . . . . . . . . . . . . . . . . . . . . . . . . . . . . . . . . . . . . . . . . . . . . . . . . . . . . . . . . . . . . . . . . . . . . . . . . . . . . . . . . . . . . . . . . . . . . . . . . . . . . . . \n",
      "Training Results - Epoch : 73    Avg accuracy : 100.0    Loss: 0.0009298600189504213\n",
      "\n",
      "Validation Results - Epoch : 73    Avg accuracy : 81.12    Loss: 1.0315768909454346\n",
      ". . . . . . . . . . . . . . . . . . . . . . . . . . . . . . . . . . . . . . . . . . . . . . . . . . . . . . . . . . . . . . . . . . . . . . . . . . . . . . . . . . . . . . . . . . . . . . . . . . . . . . . . . . . . . . . . . . . . . . . . . . . . . . . . . . . . . . . . . . . . . . . . . . . . . . . . . . . . . . . . . . . . . . . . . . . . . . . . . . . . . . . . . . . . . . . . . . . . . . . . \n",
      "Training Results - Epoch : 74    Avg accuracy : 100.0    Loss: 0.0008850523000000976\n",
      "\n",
      "Validation Results - Epoch : 74    Avg accuracy : 81.23    Loss: 1.0362732601165772\n",
      ". . . . . . . . . . . . . . . . . . . . . . . . . . . . . . . . . . . . . . . . . . . . . . . . . . . . . . . . . . . . . . . . . . . . . . . . . . . . . . . . . . . . . . . . . . . . . . . . . . . . . . . . . . . . . . . . . . . . . . . . . . . . . . . . . . . . . . . . . . . . . . . . . . . . . . . . . . . . . . . . . . . . . . . . . . . . . . . . . . . . . . . . . . . . . . . . . . . . . . . . \n",
      "Training Results - Epoch : 75    Avg accuracy : 100.0    Loss: 0.0008366018548258581\n",
      "\n",
      "Validation Results - Epoch : 75    Avg accuracy : 81.16    Loss: 1.0412858366966247\n",
      ". . . . . . . . . . . . . . . . . . . . . . . . . . . . . . . . . . . . . . . . . . . . . . . . . . . . . . . . . . . . . . . . . . . . . . . . . . . . . . . . . . . . . . . . . . . . . . . . . . . . . . . . . . . . . . . . . . . . . . . . . . . . . . . . . . . . . . . . . . . . . . . . . . . . . . . . . . . . . . . . . . . . . . . . . . . . . . . . . . . . . . . . . . . . . . . . . . . . . . . . \n",
      "Training Results - Epoch : 76    Avg accuracy : 100.0    Loss: 0.0007836808571300935\n",
      "\n",
      "Validation Results - Epoch : 76    Avg accuracy : 81.36    Loss: 1.0433002769947053\n",
      ". . . . . . . . . . . . . . . . . . . . . . . . . . . . . . . . . . . . . . . . . . . . . . . . . . . . . . . . . . . . . . . . . . . . . . . . . . . . . . . . . . . . . . . . . . . . . . . . . . . . . . . . . . . . . . . . . . . . . . . . . . . . . . . . . . . . . . . . . . . . . . . . . . . . . . . . . . . . . . . . . . . . . . . . . . . . . . . . . . . . . . . . . . . . . . . . . . . . . . . . \n",
      "Training Results - Epoch : 77    Avg accuracy : 100.0    Loss: 0.0007650010236829984\n",
      "\n",
      "Validation Results - Epoch : 77    Avg accuracy : 81.14    Loss: 1.0487018525600433\n",
      ". . . . . . . . . . . . . . . . . . . . . . . . . . . . . . . . . . . . . . . . . . . . . . . . . . . . . . . . . . . . . . . . . . . . . . . . . . . . . . . . . . . . . . . . . . . . . . . . . . . . . . . . . . . . . . . . . . . . . . . . . . . . . . . . . . . . . . . . . . . . . . . . . . . . . . . . . . . . . . . . . . . . . . . . . . . . . . . . . . . . . . . . . . . . . . . . . . . . . . . . \n",
      "Training Results - Epoch : 78    Avg accuracy : 100.0    Loss: 0.0007286167769052554\n",
      "\n",
      "Validation Results - Epoch : 78    Avg accuracy : 81.17999999999999    Loss: 1.052530755996704\n",
      ". . . . . . . . . . . . . . . . . . . . . . . . . . . . . . . . . . . . . . . . . . . . . . . . . . . . . . . . . . . . . . . . . . . . . . . . . . . . . . . . . . . . . . . . . . . . . . . . . . . . . . . . . . . . . . . . . . . . . . . . . . . . . . . . . . . . . . . . . . . . . . . . . . . . . . . . . . . . . . . . . . . . . . . . . . . . . . . . . . . . . . . . . . . . . . . . . . . . . . . . \n",
      "Training Results - Epoch : 79    Avg accuracy : 100.0    Loss: 0.0007045692439714913\n",
      "\n",
      "Validation Results - Epoch : 79    Avg accuracy : 81.14    Loss: 1.0534476745128631\n",
      ". . . . . . . . . . . . . . . . . . . . . . . . . . . . . . . . . . . . . . . . . . . . . . . . . . . . . . . . . . . . . . . . . . . . . . . . . . . . . . . . . . . . . . . . . . . . . . . . . . . . . . . . . . . . . . . . . . . . . . . . . . . . . . . . . . . . . . . . . . . . . . . . . . . . . . . . . . . . . . . . . . . . . . . . . . . . . . . . . . . . . . . . . . . . . . . . . . . . . . . . \n",
      "Training Results - Epoch : 80    Avg accuracy : 100.0    Loss: 0.0006797557001118549\n",
      "\n",
      "Validation Results - Epoch : 80    Avg accuracy : 81.28    Loss: 1.0560956525802612\n",
      ". . . . . . . . . . . . . . . . . . . . . . . . . . . . . . . . . . . . . . . . . . . . . . . . . . . . . . . . . . . . . . . . . . . . . . . . . . . . . . . . . . . . . . . . . . . . . . . . . . . . . . . . . . . . . . . . . . . . . . . . . . . . . . . . . . . . . . . . . . . . . . . . . . . . . . . . . . . . . . . . . . . . . . . . . . . . . . . . . . . . . . . . . . . . . . . . . . . . . . . . \n",
      "Training Results - Epoch : 81    Avg accuracy : 100.0    Loss: 0.0006405560723214876\n",
      "\n",
      "Validation Results - Epoch : 81    Avg accuracy : 81.32000000000001    Loss: 1.061001135110855\n",
      ". . . . . . . . . . . . . . . . . . . . . . . . . . . . . . . . . . . . . . . . . . . . . . . . . . . . . . . . . . . . . . . . . . . . . . . . . . . . . . . . . . . . . . . . . . . . . . . . . . . . . . . . . . . . . . . . . . . . . . . . . . . . . . . . . . . . . . . . . . . . . . . . . . . . . . . . . . . . . . . . . . . . . . . . . . . . . . . . . . . . . . . . . . . . . . . . . . . . . . . . \n",
      "Training Results - Epoch : 82    Avg accuracy : 100.0    Loss: 0.0006255604140460491\n",
      "\n",
      "Validation Results - Epoch : 82    Avg accuracy : 81.24    Loss: 1.0615828943252563\n",
      ". . . . . . . . . . . . . . . . . . . . . . . . . . . . . . . . . . . . . . . . . . . . . . . . . . . . . . . . . . . . . . . . . . . . . . . . . . . . . . . . . . . . . . . . . . . . . . . . . . . . . . . . . . . . . . . . . . . . . . . . . . . . . . . . . . . . . . . . . . . . . . . . . . . . . . . . . . . . . . . . . . . . . . . . . . . . . . . . . . . . . . . . . . . . . . . . . . . . . . . . \n",
      "Training Results - Epoch : 83    Avg accuracy : 100.0    Loss: 0.0006056161774904467\n",
      "\n",
      "Validation Results - Epoch : 83    Avg accuracy : 81.36    Loss: 1.0646084988117217\n",
      ". . . . . . . . . . . . . . . . . . . . . . . . . . . . . . . . . . . . . . . . . . . . . . . . . . . . . . . . . . . . . . . . . . . . . . . . . . . . . . . . . . . . . . . . . . . . . . . . . . . . . . . . . . . . . . . . . . . . . . . . . . . . . . . . . . . . . . . . . . . . . . . . . . . . . . . . . . . . . . . . . . . . . . . . . . . . . . . . . . . . . . . . . . . . . . . . . . . . . . . . \n",
      "Training Results - Epoch : 84    Avg accuracy : 100.0    Loss: 0.0005937595591240097\n",
      "\n",
      "Validation Results - Epoch : 84    Avg accuracy : 81.2    Loss: 1.0693543863296509\n",
      ". . . . . . . . . . . . . . . . . . . . . . . . . . . . . . . . . . . . . . . . . . . . . . . . . . . . . . . . . . . . . . . . . . . . . . . . . . . . . . . . . . . . . . . . . . . . . . . . . . . . . . . . . . . . . . . . . . . . . . . . . . . . . . . . . . . . . . . . . . . . . . . . . . . . . . . . . . . . . . . . . . . . . . . . . . . . . . . . . . . . . . . . . . . . . . . . . . . . . . . . \n",
      "Training Results - Epoch : 85    Avg accuracy : 100.0    Loss: 0.0005561465994105674\n",
      "\n",
      "Validation Results - Epoch : 85    Avg accuracy : 81.2    Loss: 1.0717211389541625\n",
      ". . . . . . . . . . . . . . . . . . . . . . . . . . . . . . . . . . . . . . . . . . . . . . . . . . . . . . . . . . . . . . . . . . . . . . . . . . . . . . . . . . . . . . . . . . . . . . . . . . . . . . . . . . . . . . . . . . . . . . . . . . . . . . . . . . . . . . . . . . . . . . . . . . . . . . . . . . . . . . . . . . . . . . . . . . . . . . . . . . . . . . . . . . . . . . . . . . . . . . . . \n",
      "Training Results - Epoch : 86    Avg accuracy : 100.0    Loss: 0.0005536764858698007\n",
      "\n",
      "Validation Results - Epoch : 86    Avg accuracy : 81.36    Loss: 1.0723087322711944\n",
      ". . . . . . . . . . . . . . . . . . . . . . . . . . . . . . . . . . . . . . . . . . . . . . . . . . . . . . . . . . . . . . . . . . . . . . . . . . . . . . . . . . . . . . . . . . . . . . . . . . . . . . . . . . . . . . . . . . . . . . . . . . . . . . . . . . . . . . . . . . . . . . . . . . . . . . . . . . . . . . . . . . . . . . . . . . . . . . . . . . . . . . . . . . . . . . . . . . . . . . . . \n",
      "Training Results - Epoch : 87    Avg accuracy : 100.0    Loss: 0.0005441759945824743\n",
      "\n",
      "Validation Results - Epoch : 87    Avg accuracy : 81.22    Loss: 1.0715763103961944\n",
      ". . . . . . . . . . . . . . . . . . . . . . . . . . . . . . . . . . . . . . . . . . . . . . . . . . . . . . . . . . . . . . . . . . . . . . . . . . . . . . . . . . . . . . . . . . . . . . . . . . . . . . . . . . . . . . . . . . . . . . . . . . . . . . . . . . . . . . . . . . . . . . . . . . . . . . . . . . . . . . . . . . . . . . . . . . . . . . . . . . . . . . . . . . . . . . . . . . . . . . . . \n",
      "Training Results - Epoch : 88    Avg accuracy : 100.0    Loss: 0.0005269530780788045\n",
      "\n",
      "Validation Results - Epoch : 88    Avg accuracy : 81.21000000000001    Loss: 1.0720807242393493\n",
      ". . . . . . . . . . . . . . . . . . . . . . . . . . . . . . . . . . . . . . . . . . . . . . . . . . . . . . . . . . . . . . . . . . . . . . . . . . . . . . . . . . . . . . . . . . . . . . . . . . . . . . . . . . . . . . . . . . . . . . . . . . . . . . . . . . . . . . . . . . . . . . . . . . . . . . . . . . . . . . . . . . . . . . . . . . . . . . . . . . . . . . . . . . . . . . . . . . . . . . . . \n",
      "Training Results - Epoch : 89    Avg accuracy : 100.0    Loss: 0.0005087138288945426\n",
      "\n",
      "Validation Results - Epoch : 89    Avg accuracy : 81.24    Loss: 1.0783952164649964\n",
      ". . . . . . . . . . . . . . . . . . . . . . . . . . . . . . . . . . . . . . . . . . . . . . . . . . . . . . . . . . . . . . . . . . . . . . . . . . . . . . . . . . . . . . . . . . . . . . . . . . . . . . . . . . . . . . . . . . . . . . . . . . . . . . . . . . . . . . . . . . . . . . . . . . . . . . . . . . . . . . . . . . . . . . . . . . . . . . . . . . . . . . . . . . . . . . . . . . . . . . . . \n",
      "Training Results - Epoch : 90    Avg accuracy : 100.0    Loss: 0.0004966613880242221\n",
      "\n",
      "Validation Results - Epoch : 90    Avg accuracy : 81.23    Loss: 1.0774183976650238\n",
      ". . . . . . . . . . . . . . . . . . . . . . . . . . . . . . . . . . . . . . . . . . . . . . . . . . . . . . . . . . . . . . . . . . . . . . . . . . . . . . . . . . . . . . . . . . . . . . . . . . . . . . . . . . . . . . . . . . . . . . . . . . . . . . . . . . . . . . . . . . . . . . . . . . . . . . . . . . . . . . . . . . . . . . . . . . . . . . . . . . . . . . . . . . . . . . . . . . . . . . . . \n",
      "Training Results - Epoch : 91    Avg accuracy : 100.0    Loss: 0.00048758921650005505\n",
      "\n",
      "Validation Results - Epoch : 91    Avg accuracy : 81.13    Loss: 1.085782403945923\n",
      ". . . . . . . . . . . . . . . . . . . . . . . . . . . . . . . . . . . . . . . . . . . . . . . . . . . . . . . . . . . . . . . . . . . . . . . . . . . . . . . . . . . . . . . . . . . . . . . . . . . . . . . . . . . . . . . . . . . . . . . . . . . . . . . . . . . . . . . . . . . . . . . . . . . . . . . . . . . . . . . . . . . . . . . . . . . . . . . . . . . . . . . . . . . . . . . . . . . . . . . . \n",
      "Training Results - Epoch : 92    Avg accuracy : 100.0    Loss: 0.00047586618762579747\n",
      "\n",
      "Validation Results - Epoch : 92    Avg accuracy : 81.17999999999999    Loss: 1.0877059710025787\n",
      ". . . . . . . . . . . . . . . . . . . . . . . . . . . . . . . . . . . . . . . . . . . . . . . . . . . . . . . . . . . . . . . . . . . . . . . . . . . . . . . . . . . . . . . . . . . . . . . . . . . . . . . . . . . . . . . . . . . . . . . . . . . . . . . . . . . . . . . . . . . . . . . . . . . . . . . . . . . . . . . . . . . . . . . . . . . . . . . . . . . . . . . . . . . . . . . . . . . . . . . . \n",
      "Training Results - Epoch : 93    Avg accuracy : 100.0    Loss: 0.00046780105694779197\n",
      "\n",
      "Validation Results - Epoch : 93    Avg accuracy : 81.28    Loss: 1.0865922200679778\n",
      ". . . . . . . . . . . . . . . . . . . . . . . . . . . . . . . . . . . . . . . . . . . . . . . . . . . . . . . . . . . . . . . . . . . . . . . . . . . . . . . . . . . . . . . . . . . . . . . . . . . . . . . . . . . . . . . . . . . . . . . . . . . . . . . . . . . . . . . . . . . . . . . . . . . . . . . . . . . . . . . . . . . . . . . . . . . . . . . . . . . . . . . . . . . . . . . . . . . . . . . . \n",
      "Training Results - Epoch : 94    Avg accuracy : 100.0    Loss: 0.0004604571578965988\n",
      "\n",
      "Validation Results - Epoch : 94    Avg accuracy : 81.24    Loss: 1.0837502837181092\n",
      ". . . . . . . . . . . . . . . . . . . . . . . . . . . . . . . . . . . . . . . . . . . . . . . . . . . . . . . . . . . . . . . . . . . . . . . . . . . . . . . . . . . . . . . . . . . . . . . . . . . . . . . . . . . . . . . . . . . . . . . . . . . . . . . . . . . . . . . . . . . . . . . . . . . . . . . . . . . . . . . . . . . . . . . . . . . . . . . . . . . . . . . . . . . . . . . . . . . . . . . . \n",
      "Training Results - Epoch : 95    Avg accuracy : 100.0    Loss: 0.00045565675565740094\n",
      "\n",
      "Validation Results - Epoch : 95    Avg accuracy : 81.28    Loss: 1.0904090881347657\n",
      ". . . . . . . . . . . . . . . . . . . . . . . . . . . . . . . . . . . . . . . . . . . . . . . . . . . . . . . . . . . . . . . . . . . . . . . . . . . . . . . . . . . . . . . . . . . . . . . . . . . . . . . . . . . . . . . . . . . . . . . . . . . . . . . . . . . . . . . . . . . . . . . . . . . . . . . . . . . . . . . . . . . . . . . . . . . . . . . . . . . . . . . . . . . . . . . . . . . . . . . . \n",
      "Training Results - Epoch : 96    Avg accuracy : 100.0    Loss: 0.0004386467920267023\n",
      "\n",
      "Validation Results - Epoch : 96    Avg accuracy : 81.31    Loss: 1.087287404537201\n",
      ". . . . . . . . . . . . . . . . . . . . . . . . . . . . . . . . . . . . . . . . . . . . . . . . . . . . . . . . . . . . . . . . . . . . . . . . . . . . . . . . . . . . . . . . . . . . . . . . . . . . . . . . . . . . . . . . . . . . . . . . . . . . . . . . . . . . . . . . . . . . . . . . . . . . . . . . . . . . . . . . . . . . . . . . . . . . . . . . . . . . . . . . . . . . . . . . . . . . . . . . \n",
      "Training Results - Epoch : 97    Avg accuracy : 100.0    Loss: 0.0004290348167705815\n",
      "\n",
      "Validation Results - Epoch : 97    Avg accuracy : 81.41000000000001    Loss: 1.0940174329280854\n",
      ". . . . . . . . . . . . . . . . . . . . . . . . . . . . . . . . . . . . . . . . . . . . . . . . . . . . . . . . . . . . . . . . . . . . . . . . . . . . . . . . . . . . . . . . . . . . . . . . . . . . . . . . . . . . . . . . . . . . . . . . . . . . . . . . . . . . . . . . . . . . . . . . . . . . . . . . . . . . . . . . . . . . . . . . . . . . . . . . . . . . . . . . . . . . . . . . . . . . . . . . \n",
      "Training Results - Epoch : 98    Avg accuracy : 100.0    Loss: 0.0004129393918265123\n",
      "\n",
      "Validation Results - Epoch : 98    Avg accuracy : 81.31    Loss: 1.0969888246059418\n",
      ". . . . . . . . . . . . . . . . . . . . . . . . . . . . . . . . . . . . . . . . . . . . . . . . . . . . . . . . . . . . . . . . . . . . . . . . . . . . . . . . . . . . . . . . . . . . . . . . . . . . . . . . . . . . . . . . . . . . . . . . . . . . . . . . . . . . . . . . . . . . . . . . . . . . . . . . . . . . . . . . . . . . . . . . . . . . . . . . . . . . . . . . . . . . . . . . . . . . . . . . \n",
      "Training Results - Epoch : 99    Avg accuracy : 100.0    Loss: 0.0004097450133122038\n",
      "\n",
      "Validation Results - Epoch : 99    Avg accuracy : 81.27    Loss: 1.0949043178558349\n",
      ". . . . . . . . . . . . . . . . . . . . . . . . . . . . . . . . . . . . . . . . . . . . . . . . . . . . . . . . . . . . . . . . . . . . . . . . . . . . . . . . . . . . . . . . . . . . . . . . . . . . . . . . . . . . . . . . . . . . . . . . . . . . . . . . . . . . . . . . . . . . . . . . . . . . . . . . . . . . . . . . . . . . . . . . . . . . . . . . . . . . . . . . . . . . . . . . . . . . . . . . \n",
      "Training Results - Epoch : 100    Avg accuracy : 100.0    Loss: 0.00040517687753890643\n",
      "\n",
      "Validation Results - Epoch : 100    Avg accuracy : 81.23    Loss: 1.0938203299045564\n"
     ]
    },
    {
     "data": {
      "text/plain": [
       "State:\n",
       "\titeration: 19800\n",
       "\tepoch: 100\n",
       "\tepoch_length: 200\n",
       "\tmax_epochs: 100\n",
       "\toutput: 0.0005072975181974471\n",
       "\tbatch: <class 'list'>\n",
       "\tmetrics: <class 'dict'>\n",
       "\tdataloader: <class 'torch.utils.data.dataloader.DataLoader'>\n",
       "\tseed: 12"
      ]
     },
     "execution_count": 34,
     "metadata": {
      "tags": []
     },
     "output_type": "execute_result"
    }
   ],
   "source": [
    "trainer.run(train_loader,max_epochs=nr_epochs)"
   ]
  },
  {
   "cell_type": "code",
   "execution_count": 46,
   "metadata": {
    "colab": {
     "base_uri": "https://localhost:8080/",
     "height": 34
    },
    "colab_type": "code",
    "id": "wgX7I2ij-JhY",
    "outputId": "fa8f2b23-501b-49d9-9483-8bb4898aac9a"
   },
   "outputs": [
    {
     "data": {
      "text/plain": [
       "'/gdrive/My Drive/Adagrad'"
      ]
     },
     "execution_count": 46,
     "metadata": {
      "tags": []
     },
     "output_type": "execute_result"
    }
   ],
   "source": [
    "pwd"
   ]
  },
  {
   "cell_type": "code",
   "execution_count": 47,
   "metadata": {
    "colab": {
     "base_uri": "https://localhost:8080/",
     "height": 221
    },
    "colab_type": "code",
    "id": "dsnJG4D-LJxp",
    "outputId": "a97c826f-4183-4e13-c2b3-7f41b80af60b"
   },
   "outputs": [
    {
     "name": "stdout",
     "output_type": "stream",
     "text": [
      " CMakeLists.txt\n",
      " CMakeSamplesTemplate.txt\n",
      " cuda_10.2.89_440.33.01_linux.run\n",
      " cudnn-10.1-linux-x64-v7.6.5.32.tgz\n",
      " densenet.onnx\n",
      "'Extra_DenseNet_final_da_new__ (1).ipynb'\n",
      " Finallyy_Da.ipynb\n",
      " nv-tensorrt-repo-ubuntu1804-cuda10.2-trt7.0.0.11-ga-20191216_1-1_amd64.deb\n",
      " \u001b[0m\u001b[01;34monnx\u001b[0m/\n",
      " sampleOnnxMNIST.cpp\n",
      " \u001b[01;34mTensorRT-7.0.0.11\u001b[0m/\n",
      " TensorRT-7.0.0.11.Ubuntu-18.04.x86_64-gnu.cuda-10.2.cudnn7.6.tar.gz\n"
     ]
    }
   ],
   "source": [
    "ls"
   ]
  },
  {
   "cell_type": "code",
   "execution_count": 49,
   "metadata": {
    "colab": {
     "base_uri": "https://localhost:8080/",
     "height": 119
    },
    "colab_type": "code",
    "id": "jfeYHh7XuWsr",
    "outputId": "58c74d0f-5679-4588-8fdb-d2a6f147eed5"
   },
   "outputs": [
    {
     "name": "stderr",
     "output_type": "stream",
     "text": [
      "/usr/local/lib/python3.6/dist-packages/torch/serialization.py:402: UserWarning: Couldn't retrieve source code for container of type DenseNet. It won't be checked for correctness upon loading.\n",
      "  \"type \" + obj.__name__ + \". It won't be checked \"\n",
      "/usr/local/lib/python3.6/dist-packages/torch/serialization.py:402: UserWarning: Couldn't retrieve source code for container of type Dense_Block_Transposed. It won't be checked for correctness upon loading.\n",
      "  \"type \" + obj.__name__ + \". It won't be checked \"\n",
      "/usr/local/lib/python3.6/dist-packages/torch/serialization.py:402: UserWarning: Couldn't retrieve source code for container of type Transition_Layer. It won't be checked for correctness upon loading.\n",
      "  \"type \" + obj.__name__ + \". It won't be checked \"\n"
     ]
    }
   ],
   "source": [
    "torch.save(densenet,'/gdrive/My Drive/Adagrad/My_model_100.pth')"
   ]
  },
  {
   "cell_type": "code",
   "execution_count": 50,
   "metadata": {
    "colab": {},
    "colab_type": "code",
    "id": "Xi-PuEURvQKd"
   },
   "outputs": [],
   "source": [
    "load_model=torch.load('/gdrive/My Drive/Adagrad/My_model_100.pth')"
   ]
  },
  {
   "cell_type": "code",
   "execution_count": 51,
   "metadata": {
    "colab": {
     "base_uri": "https://localhost:8080/",
     "height": 624
    },
    "colab_type": "code",
    "id": "cxazjM5hbk1I",
    "outputId": "dd9d5165-5f9c-44a3-eaf7-ddf5e7130038"
   },
   "outputs": [
    {
     "data": {
      "text/plain": [
       "Text(0.5, 1.0, 'Validation Loss plot')"
      ]
     },
     "execution_count": 51,
     "metadata": {
      "tags": []
     },
     "output_type": "execute_result"
    },
    {
     "data": {
      "image/png": "[encoded data removed]",
      "text/plain": [
       "<Figure size 1728x720 with 4 Axes>"
      ]
     },
     "metadata": {
      "needs_background": "light",
      "tags": []
     },
     "output_type": "display_data"
    }
   ],
   "source": [
    "fig,axs=plt.subplots(2,2)\n",
    "fig.set_figheight(10)\n",
    "fig.set_figwidth(24)\n",
    "axs[0,0].plot(training_history['Accuracy'])\n",
    "axs[0,0].set_title('Training Accuracy plot')\n",
    "\n",
    "axs[0,1].plot(validation_history['Accuracy'])\n",
    "axs[0,1].set_title('Validation Accuracy plot')\n",
    "\n",
    "axs[1,0].plot(training_history['Loss'])\n",
    "axs[1,0].set_title('Training Loss plot')\n",
    "\n",
    "axs[1,1].plot(training_history['Loss'])\n",
    "axs[1,1].set_title('Validation Loss plot')\n"
   ]
  },
  {
   "cell_type": "code",
   "execution_count": 51,
   "metadata": {
    "colab": {},
    "colab_type": "code",
    "id": "coJ1Fk3Sbk6D"
   },
   "outputs": [],
   "source": []
  },
  {
   "cell_type": "code",
   "execution_count": 53,
   "metadata": {
    "colab": {
     "base_uri": "https://localhost:8080/",
     "height": 1000
    },
    "colab_type": "code",
    "id": "KhAvZ3nCBzND",
    "outputId": "00a86f84-6840-4e36-822d-7e6e467a4c33"
   },
   "outputs": [
    {
     "name": "stdout",
     "output_type": "stream",
     "text": [
      "200\n",
      "1592764880508\n",
      "200\n",
      "1592764880575\n",
      "200\n",
      "1592764880623\n",
      "200\n",
      "1592764880690\n",
      "200\n",
      "1592764880752\n",
      "200\n",
      "1592764880816\n",
      "200\n",
      "1592764880885\n",
      "200\n",
      "1592764880937\n",
      "200\n",
      "1592764880981\n",
      "200\n",
      "1592764881045\n",
      "200\n",
      "1592764881108\n",
      "200\n",
      "1592764881201\n",
      "200\n",
      "1592764881258\n",
      "200\n",
      "1592764881325\n",
      "200\n",
      "1592764881362\n",
      "200\n",
      "1592764881395\n",
      "200\n",
      "1592764881430\n",
      "200\n",
      "1592764881498\n",
      "200\n",
      "1592764881557\n",
      "200\n",
      "1592764881613\n",
      "200\n",
      "1592764881672\n",
      "200\n",
      "1592764881722\n",
      "200\n",
      "1592764881771\n",
      "200\n",
      "1592764881821\n",
      "200\n",
      "1592764881872\n",
      "200\n",
      "1592764881917\n",
      "200\n",
      "1592764881979\n",
      "200\n",
      "1592764882030\n",
      "200\n",
      "1592764882097\n",
      "200\n",
      "1592764882160\n",
      "200\n",
      "1592764882256\n",
      "200\n",
      "1592764882314\n",
      "200\n",
      "1592764882387\n",
      "200\n",
      "1592764882432\n",
      "200\n",
      "1592764882495\n",
      "200\n",
      "1592764882570\n",
      "200\n",
      "1592764882639\n",
      "200\n",
      "1592764882722\n",
      "200\n",
      "1592764882779\n",
      "200\n",
      "1592764882853\n",
      "200\n",
      "1592764882905\n",
      "200\n",
      "1592764882948\n",
      "200\n",
      "1592764883000\n",
      "200\n",
      "1592764883037\n",
      "200\n",
      "1592764883071\n",
      "200\n",
      "1592764883102\n",
      "200\n",
      "1592764883129\n",
      "200\n",
      "1592764883156\n",
      "200\n",
      "1592764883182\n",
      "200\n",
      "1592764883208\n",
      "Test Loss 1.139968\n",
      " \n",
      "Overall Test Accuracy 86.390533 (292.0/338.0)\n",
      "Overall Test Accuracy 90.447761 (303.0/335.0)\n",
      "Overall Test Accuracy 69.155844 (213.0/308.0)\n",
      "Overall Test Accuracy 70.588235 (204.0/289.0)\n",
      "Overall Test Accuracy 71.472393 (233.0/326.0)\n",
      "Overall Test Accuracy 75.238095 (237.0/315.0)\n",
      "Overall Test Accuracy 85.173502 (270.0/317.0)\n",
      "Overall Test Accuracy 85.173502 (270.0/317.0)\n",
      "Overall Test Accuracy 88.888889 (272.0/306.0)\n",
      "Overall Test Accuracy 86.246418 (301.0/349.0)\n"
     ]
    }
   ],
   "source": [
    "test_loss=0.0\n",
    "from datetime import datetime,date\n",
    "class_correct=np.zeros(len(classes))\n",
    "class_total=np.zeros(len(classes))\n",
    "load_model.eval()\n",
    "# print(len(test_loader))\n",
    "# print(len(test_loader.data))\n",
    "\n",
    "# i=1\n",
    "for data,target in test_loader:\n",
    "    # print(len(data))\n",
    "    # print(i)\n",
    "    # for i in range(len(target)):\n",
    "      # print(i)\n",
    "    if use_gpu:\n",
    "      data,target=data.cuda(),target.cuda()\n",
    "\n",
    "    outputs = load_model(data)\n",
    "    print(len(outputs))\n",
    "    loss = criterion(outputs,target)\n",
    "    test_loss += loss.item()\n",
    "    not_needed, predicted = torch.max(outputs, 1)\n",
    "    # loss = criterion(outputs, labels)\n",
    "    correct_tensor=predicted.eq(target.data.view_as(predicted))\n",
    "    correct=np.squeeze(correct_tensor.numpy()) if not use_gpu else np.squeeze(correct_tensor.cpu().numpy())\n",
    "    \n",
    "    if(len(target)==batch_size):#Batch_size da........................................change it here when u shift this to config_file\n",
    "      # print( time.asctime( time.localtime(time.time()) ))\n",
    "      print(int(round(time.time() * 1000)))\n",
    "      # print(datetime.today().microsecond)\n",
    "      for i in range(64):\n",
    "        label=target.data[i]\n",
    "        class_correct[label] += correct[i].item()\n",
    "        class_total[label]+=1\n",
    "test_loss/=len(test_loader)\n",
    "print(\"Test Loss {:6f}\\n \".format(test_loss))\n",
    "\n",
    "# for i in range(len(classes)):\n",
    "#   if class_total[i]>0:\n",
    "#     print(\"Test Accuracy of {} :{} ({}/{})\".format(classes[i],\n",
    "#                                                 100 * class_correct[i]/class_total[i],\n",
    "#                                                 np.sum(class_correct[i]),np.sum(class_total[i])))\n",
    "#   else:\n",
    "#     print(\"Test Accuracy of {} :N/A (no eg found)\".format(classes[i]))\n",
    "#     print(\"Overall Test Accuracy {} ({}/{})\".format(100 * class_correct[i]/class_total[i],\n",
    "#                                                 np.sum(class_correct[i]),np.sum(class_total[i])))\n",
    "\n",
    "\n",
    "for i in range(len(classes)):\n",
    "\n",
    "  print(\"Overall Test Accuracy {:3f} ({}/{})\".format(100 * class_correct[i]/class_total[i],\n",
    "                                                np.sum(class_correct[i]),np.sum(class_total[i])))"
   ]
  },
  {
   "cell_type": "code",
   "execution_count": 54,
   "metadata": {
    "colab": {},
    "colab_type": "code",
    "id": "5xudCADXv3nI"
   },
   "outputs": [],
   "source": [
    "from PIL import Image\n",
    "from io import BytesIO\n",
    "import requests\n",
    "\n",
    "def apply_test_transforms(input_img):\n",
    "  out=transforms.functional.to_tensor(input_img)\n",
    "  out=transforms.functional.normalize(out,[0.5, 0.5, 0.5], [0.5, 0.5, 0.5])\n",
    "  return out\n",
    "\n",
    "densenet.eval()\n",
    "\n",
    "def predict(densenet,filepath,show_img=False,url=False):\n",
    "  if url:\n",
    "    response=requests.get(filepath)\n",
    "    img=Image.open(BytesIO(response.content))\n",
    "  else:\n",
    "    img=Image.open(filepath)\n",
    "  if show_img:\n",
    "    plt.imshow(img)\n",
    "  image_as_tensor=apply_test_transforms(img)\n",
    "  single_batch=torch.stack([image_as_tensor])\n",
    "  if use_gpu:\n",
    "    single_batch=single_batch.cuda()\n",
    "  pred = densenet(single_batch)\n",
    "\n",
    "  _,classnumber= torch.max(pred,1)\n",
    "  return classes[classnumber]\n",
    "\n"
   ]
  },
  {
   "cell_type": "code",
   "execution_count": null,
   "metadata": {
    "colab": {},
    "colab_type": "code",
    "id": "2a8Iyj1jv3zF"
   },
   "outputs": [],
   "source": [
    "# res=predict(densenet,\"https://www.google.com/url?sa=i&url=https%https://www.google.com/url?sa=i&url=https%3A%2F%2Fen.wiktionary.org%2Fwiki%2Faeroplane&psig=AOvVaw1e_05Nhz9YWwwcrDoezTwO&ust=1592426148276000&source=images&cd=vfe&ved=0CAIQjRxqFwoTCMC6h-qXh-oCFQAAAAAdAAAAABAD3A%2F%2Fen.wiktionary.org%2Fwiki%2Faeroplane&psig=AOvVaw1e_05Nhz9YWwwcrDoezTwO&ust=1592426148276000&source=images&cd=vfe&ved=0CAIQjRxqFwoTCMC6h-qXh-oCFQAAAAAdAAAAABAD\",show_img=True,url=True)"
   ]
  },
  {
   "cell_type": "code",
   "execution_count": null,
   "metadata": {
    "colab": {},
    "colab_type": "code",
    "id": "-C_KOc-Wv323"
   },
   "outputs": [],
   "source": []
  },
  {
   "cell_type": "code",
   "execution_count": null,
   "metadata": {
    "colab": {},
    "colab_type": "code",
    "id": "MXin49KEv3xG"
   },
   "outputs": [],
   "source": []
  },
  {
   "cell_type": "code",
   "execution_count": null,
   "metadata": {
    "colab": {},
    "colab_type": "code",
    "id": "bOgCi6gUv3u1"
   },
   "outputs": [],
   "source": []
  },
  {
   "cell_type": "code",
   "execution_count": null,
   "metadata": {
    "colab": {},
    "colab_type": "code",
    "id": "ZOqoRmYjv3tA"
   },
   "outputs": [],
   "source": []
  },
  {
   "cell_type": "raw",
   "metadata": {
    "colab": {},
    "colab_type": "code",
    "id": "BZd-hv54v3qk"
   },
   "source": [
    "Below is my initial implemenation to train the model using loop...and then I came across Pytorch Ignite..and I implemented it above...So below is just for reference that I have tried and I am used to that....so I tried ignite"
   ]
  },
  {
   "cell_type": "code",
   "execution_count": null,
   "metadata": {
    "colab": {},
    "colab_type": "code",
    "id": "bWDmt5COblC-"
   },
   "outputs": [],
   "source": [
    "########################################################################################################################################################################################################################"
   ]
  },
  {
   "cell_type": "code",
   "execution_count": null,
   "metadata": {
    "colab": {},
    "colab_type": "code",
    "id": "ErVqVeBHblGR"
   },
   "outputs": [],
   "source": [
    "\n",
    "# # Training Loop\n",
    "# print(\"Start of the Optimization Processs..\")\n",
    "# for epoch in range(nr_epochs):  \n",
    "\n",
    "#     running_loss = 0.0\n",
    "#     correct=0.0\n",
    "#     for i, data in enumerate(train_loader, 0):\n",
    "#         # print(len(data))\n",
    "#         # get the inputs\n",
    "#         inputs, labels = data\n",
    "#         # print(\"###############################################################3\")\n",
    "#         # print(len(inputs))\n",
    "#         # print(len(labels))\n",
    "#         # print(data)\n",
    "#         # print(labels)\n",
    "#         # print(\"###############################################################3\")\n",
    "\n",
    "#         inputs = Variable(inputs).cuda() \n",
    "#         labels = Variable(labels).cuda()\n",
    "        \n",
    "#         # zero the parameter gradients\n",
    "#         optimizer.zero_grad()\n",
    "\n",
    "#         # forward + backward + optimize\n",
    "#         outputs = densenet(inputs)\n",
    "#         # print(outputs.data)\n",
    "#         not_needed, predicted = torch.max(outputs.data, 1)\n",
    "#         loss = criterion(outputs, labels)\n",
    "#         loss.backward()\n",
    "#         optimizer.step()\n",
    "#         # print(\"The loss is {}\",format(loss))\n",
    "\n",
    "#         # print statistics\n",
    "#         running_loss += loss.item()\n",
    "#         # correct += (outputs == labels.).float().sum()\n",
    "#         correct += (predicted == labels).sum().item()\n",
    "        \n",
    "        \n",
    "    \n",
    "#     print(\"Epoch {} and Loss is {}\".format(epoch,loss.item()))\n",
    "#     loss_vctr.append(loss.item())\n",
    "#     accuracy = 100 * correct / len(trainset)\n",
    "#     print(\"Accuracy = {}\".format(accuracy))\n",
    "    \n",
    "\n",
    "# end = time.time() # Time counted in seconds\n",
    "# print(\"The total time to train the model on the K80 GPU is : {:.1f} minutes.\".format((end - start)/60))"
   ]
  },
  {
   "cell_type": "code",
   "execution_count": null,
   "metadata": {
    "colab": {
     "base_uri": "https://localhost:8080/",
     "height": 295
    },
    "colab_type": "code",
    "id": "uw186s7fEXNu",
    "outputId": "28414bfe-6e83-41f8-83e9-6f9a06f09f98"
   },
   "outputs": [
    {
     "data": {
      "image/png": "[encoded data removed]",
      "text/plain": [
       "<Figure size 432x288 with 1 Axes>"
      ]
     },
     "metadata": {
      "needs_background": "light",
      "tags": []
     },
     "output_type": "display_data"
    }
   ],
   "source": [
    "# from matplotlib import pyplot as plt\n",
    "# import numpy as np\n",
    "\n",
    "# x = range(20)\n",
    "# x_epoch = [z for z in range(1, 21) if z%2 == 0] \n",
    "# x_ticks_labels = ['epoch ' + str(x) for x in range(1, 11)]\n",
    "\n",
    "# plt.figure(2)\n",
    "# plt.plot(x, loss_vctr ,color = 'k', label = \"Training Error with SGD.\")\n",
    "# plt.xticks(x_epoch, x_ticks_labels)\n",
    "# plt.title(\"Training Error Plot.\")\n",
    "# plt.ylabel(\"Training error loss.\")\n",
    "# plt.xlabel(\"Number of Epochs.\")\n",
    "# plt.legend()\n",
    "\n",
    "# # plt.savefig(\"training_plot.png\", dpi = 300)  If you want to save your plot, uncomment.\n",
    "# plt.show()"
   ]
  },
  {
   "cell_type": "code",
   "execution_count": 55,
   "metadata": {
    "colab": {
     "base_uri": "https://localhost:8080/",
     "height": 71
    },
    "colab_type": "code",
    "id": "HSGZBR7_ibOE",
    "outputId": "d624f27b-09b9-4b32-9871-cac0dc3ab756"
   },
   "outputs": [
    {
     "name": "stdout",
     "output_type": "stream",
     "text": [
      "Accuracy of the network on the 10000 test images: 80 %\n"
     ]
    },
    {
     "name": "stderr",
     "output_type": "stream",
     "text": [
      "/pytorch/aten/src/ATen/native/BinaryOps.cpp:81: UserWarning: Integer division of tensors using div or / is deprecated, and in a future release div will perform true division as in Python 3. Use true_divide or floor_divide (// in Python) instead.\n"
     ]
    }
   ],
   "source": [
    "correct = 0\n",
    "total = 0\n",
    "\n",
    "for data in test_loader:\n",
    "        images, labels = data\n",
    "        images = Variable(images).cuda()\n",
    "        outputs = load_model(images)\n",
    "        _, predicted = torch.max(outputs.cpu().data, 1)\n",
    "        total += labels.size(0)\n",
    "        correct += (predicted == labels).sum()\n",
    "        \n",
    "print('Accuracy of the network on the 10000 test images: %d %%' % (\n",
    "    100 * correct / total))"
   ]
  },
  {
   "cell_type": "code",
   "execution_count": 56,
   "metadata": {
    "colab": {
     "base_uri": "https://localhost:8080/",
     "height": 187
    },
    "colab_type": "code",
    "id": "VFOM14ZLEXSF",
    "outputId": "10d65128-598b-4ce0-e2f5-af8500710ac5"
   },
   "outputs": [
    {
     "name": "stdout",
     "output_type": "stream",
     "text": [
      "Accuracy of plane : 92 %\n",
      "Accuracy of   car : 100 %\n",
      "Accuracy of  bird : 58 %\n",
      "Accuracy of   cat : 47 %\n",
      "Accuracy of  deer : 88 %\n",
      "Accuracy of   dog : 70 %\n",
      "Accuracy of  frog : 80 %\n",
      "Accuracy of horse : 94 %\n",
      "Accuracy of  ship : 76 %\n",
      "Accuracy of truck : 88 %\n"
     ]
    }
   ],
   "source": [
    "class_correct = list(0. for i in range(10))\n",
    "class_total = list(0. for i in range(10))\n",
    "with torch.no_grad():\n",
    "    for data in test_loader:\n",
    "        images, labels = data\n",
    "        outputs = load_model(images.cuda())\n",
    "        _, predicted = torch.max(outputs, 1)\n",
    "        c = (predicted.cpu() == labels).squeeze()\n",
    "        for i in range(4):\n",
    "            label = labels[i]\n",
    "            class_correct[label] += c[i].item()\n",
    "            class_total[label] += 1\n",
    "\n",
    "\n",
    "for i in range(10):\n",
    "    print('Accuracy of %5s : %2d %%' % (\n",
    "        classes[i], 100 * class_correct[i] / class_total[i]))"
   ]
  },
  {
   "cell_type": "code",
   "execution_count": null,
   "metadata": {
    "colab": {},
    "colab_type": "code",
    "id": "A14Ifxxk-V89"
   },
   "outputs": [],
   "source": []
  },
  {
   "cell_type": "code",
   "execution_count": 57,
   "metadata": {
    "colab": {
     "base_uri": "https://localhost:8080/",
     "height": 1000
    },
    "colab_type": "code",
    "id": "Bsr19tMYEXV3",
    "outputId": "b44fc792-4725-4ab8-f167-9747e3373742"
   },
   "outputs": [
    {
     "name": "stdout",
     "output_type": "stream",
     "text": [
      "graph(%actual_input_1 : Float(10, 3, 32, 32),\n",
      "      %learned_0 : Float(3, 64, 7, 7),\n",
      "      %learned_1 : Float(64),\n",
      "      %learned_2 : Float(64),\n",
      "      %learned_3 : Float(64),\n",
      "      %learned_4 : Float(64),\n",
      "      %denseblock1.0.conv1.weight : Float(64, 32, 3, 3),\n",
      "      %denseblock1.0.conv1.bias : Float(32),\n",
      "      %denseblock1.0.conv2.weight : Float(32, 32, 3, 3),\n",
      "      %denseblock1.0.conv2.bias : Float(32),\n",
      "      %denseblock1.0.conv3.weight : Float(64, 32, 3, 3),\n",
      "      %denseblock1.0.conv3.bias : Float(32),\n",
      "      %denseblock1.0.conv4.weight : Float(96, 32, 3, 3),\n",
      "      %denseblock1.0.conv4.bias : Float(32),\n",
      "      %denseblock1.0.conv5.weight : Float(128, 32, 3, 3),\n",
      "      %denseblock1.0.conv5.bias : Float(32),\n",
      "      %denseblock2.0.bn.weight : Float(128),\n",
      "      %denseblock2.0.bn.bias : Float(128),\n",
      "      %denseblock2.0.bn.running_mean : Float(128),\n",
      "      %denseblock2.0.bn.running_var : Float(128),\n",
      "      %denseblock2.0.conv1.weight : Float(128, 32, 3, 3),\n",
      "      %denseblock2.0.conv1.bias : Float(32),\n",
      "      %denseblock2.0.conv2.weight : Float(32, 32, 3, 3),\n",
      "      %denseblock2.0.conv2.bias : Float(32),\n",
      "      %denseblock2.0.conv3.weight : Float(64, 32, 3, 3),\n",
      "      %denseblock2.0.conv3.bias : Float(32),\n",
      "      %denseblock2.0.conv4.weight : Float(96, 32, 3, 3),\n",
      "      %denseblock2.0.conv4.bias : Float(32),\n",
      "      %denseblock2.0.conv5.weight : Float(128, 32, 3, 3),\n",
      "      %denseblock2.0.conv5.bias : Float(32),\n",
      "      %denseblock3.0.bn.weight : Float(128),\n",
      "      %denseblock3.0.bn.bias : Float(128),\n",
      "      %denseblock3.0.bn.running_mean : Float(128),\n",
      "      %denseblock3.0.bn.running_var : Float(128),\n",
      "      %denseblock3.0.conv1.weight : Float(128, 32, 3, 3),\n",
      "      %denseblock3.0.conv1.bias : Float(32),\n",
      "      %denseblock3.0.conv2.weight : Float(32, 32, 3, 3),\n",
      "      %denseblock3.0.conv2.bias : Float(32),\n",
      "      %denseblock3.0.conv3.weight : Float(64, 32, 3, 3),\n",
      "      %denseblock3.0.conv3.bias : Float(32),\n",
      "      %denseblock3.0.conv4.weight : Float(96, 32, 3, 3),\n",
      "      %denseblock3.0.conv4.bias : Float(32),\n",
      "      %denseblock3.0.conv5.weight : Float(128, 32, 3, 3),\n",
      "      %denseblock3.0.conv5.bias : Float(32),\n",
      "      %transitionLayer1.0.bn.weight : Float(128),\n",
      "      %transitionLayer1.0.bn.bias : Float(128),\n",
      "      %transitionLayer1.0.bn.running_mean : Float(128),\n",
      "      %transitionLayer1.0.bn.running_var : Float(128),\n",
      "      %transitionLayer1.0.conv.weight : Float(160, 128, 1, 1),\n",
      "      %transitionLayer2.0.bn.weight : Float(128),\n",
      "      %transitionLayer2.0.bn.bias : Float(128),\n",
      "      %transitionLayer2.0.bn.running_mean : Float(128),\n",
      "      %transitionLayer2.0.bn.running_var : Float(128),\n",
      "      %transitionLayer2.0.conv.weight : Float(160, 128, 1, 1),\n",
      "      %transitionLayer3.0.bn.weight : Float(64),\n",
      "      %transitionLayer3.0.bn.bias : Float(64),\n",
      "      %transitionLayer3.0.bn.running_mean : Float(64),\n",
      "      %transitionLayer3.0.bn.running_var : Float(64),\n",
      "      %transitionLayer3.0.conv.weight : Float(160, 64, 1, 1),\n",
      "      %bn.weight : Float(64),\n",
      "      %bn.bias : Float(64),\n",
      "      %bn.running_mean : Float(64),\n",
      "      %bn.running_var : Float(64),\n",
      "      %pre_classifier.weight : Float(512, 1024),\n",
      "      %pre_classifier.bias : Float(512),\n",
      "      %classifier.weight : Float(10, 512),\n",
      "      %classifier.bias : Float(10)):\n",
      "  %80 : Float(10, 64, 32, 32) = onnx::ConvTranspose[dilations=[1, 1], group=1, kernel_shape=[7, 7], pads=[3, 3, 3, 3], strides=[1, 1]](%actual_input_1, %learned_0) # /usr/local/lib/python3.6/dist-packages/torch/nn/modules/conv.py:790:0\n",
      "  %81 : Float(10, 64, 32, 32) = onnx::LeakyRelu[alpha=0.01](%80) # /usr/local/lib/python3.6/dist-packages/torch/nn/functional.py:1239:0\n",
      "  %82 : Float(10, 64, 32, 32) = onnx::BatchNormalization[epsilon=1.0000000000000001e-05, momentum=0.90000000000000002](%81, %learned_1, %learned_2, %learned_3, %learned_4) # /usr/local/lib/python3.6/dist-packages/torch/nn/functional.py:1923:0\n",
      "  %83 : Float(10, 32, 32, 32) = onnx::ConvTranspose[dilations=[1, 1], group=1, kernel_shape=[3, 3], pads=[1, 1, 1, 1], strides=[1, 1]](%82, %denseblock1.0.conv1.weight, %denseblock1.0.conv1.bias) # /usr/local/lib/python3.6/dist-packages/torch/nn/modules/conv.py:790:0\n",
      "  %84 : Float(10, 32, 32, 32) = onnx::LeakyRelu[alpha=0.01](%83) # /usr/local/lib/python3.6/dist-packages/torch/nn/functional.py:1237:0\n",
      "  %85 : Float(10, 32, 32, 32) = onnx::ConvTranspose[dilations=[1, 1], group=1, kernel_shape=[3, 3], pads=[1, 1, 1, 1], strides=[1, 1]](%84, %denseblock1.0.conv2.weight, %denseblock1.0.conv2.bias) # /usr/local/lib/python3.6/dist-packages/torch/nn/modules/conv.py:790:0\n",
      "  %86 : Float(10, 32, 32, 32) = onnx::LeakyRelu[alpha=0.01](%85) # /usr/local/lib/python3.6/dist-packages/torch/nn/functional.py:1237:0\n",
      "  %87 : Float(10, 64, 32, 32) = onnx::Concat[axis=1](%84, %86) # <ipython-input-17-287da8f8cb5f>:22:0\n",
      "  %88 : Float(10, 64, 32, 32) = onnx::LeakyRelu[alpha=0.01](%87) # /usr/local/lib/python3.6/dist-packages/torch/nn/functional.py:1237:0\n",
      "  %89 : Float(10, 32, 32, 32) = onnx::ConvTranspose[dilations=[1, 1], group=1, kernel_shape=[3, 3], pads=[1, 1, 1, 1], strides=[1, 1]](%88, %denseblock1.0.conv3.weight, %denseblock1.0.conv3.bias) # /usr/local/lib/python3.6/dist-packages/torch/nn/modules/conv.py:790:0\n",
      "  %90 : Float(10, 32, 32, 32) = onnx::LeakyRelu[alpha=0.01](%89) # /usr/local/lib/python3.6/dist-packages/torch/nn/functional.py:1237:0\n",
      "  %91 : Float(10, 96, 32, 32) = onnx::Concat[axis=1](%84, %86, %90) # <ipython-input-17-287da8f8cb5f>:24:0\n",
      "  %92 : Float(10, 96, 32, 32) = onnx::LeakyRelu[alpha=0.01](%91) # /usr/local/lib/python3.6/dist-packages/torch/nn/functional.py:1237:0\n",
      "  %93 : Float(10, 32, 32, 32) = onnx::ConvTranspose[dilations=[1, 1], group=1, kernel_shape=[3, 3], pads=[1, 1, 1, 1], strides=[1, 1]](%92, %denseblock1.0.conv4.weight, %denseblock1.0.conv4.bias) # /usr/local/lib/python3.6/dist-packages/torch/nn/modules/conv.py:790:0\n",
      "  %94 : Float(10, 32, 32, 32) = onnx::LeakyRelu[alpha=0.01](%93) # /usr/local/lib/python3.6/dist-packages/torch/nn/functional.py:1237:0\n",
      "  %95 : Float(10, 128, 32, 32) = onnx::Concat[axis=1](%84, %86, %90, %94) # <ipython-input-17-287da8f8cb5f>:26:0\n",
      "  %96 : Float(10, 128, 32, 32) = onnx::LeakyRelu[alpha=0.01](%95) # /usr/local/lib/python3.6/dist-packages/torch/nn/functional.py:1237:0\n",
      "  %97 : Float(10, 32, 32, 32) = onnx::ConvTranspose[dilations=[1, 1], group=1, kernel_shape=[3, 3], pads=[1, 1, 1, 1], strides=[1, 1]](%96, %denseblock1.0.conv5.weight, %denseblock1.0.conv5.bias) # /usr/local/lib/python3.6/dist-packages/torch/nn/modules/conv.py:790:0\n",
      "  %98 : Float(10, 32, 32, 32) = onnx::LeakyRelu[alpha=0.01](%97) # /usr/local/lib/python3.6/dist-packages/torch/nn/functional.py:1237:0\n",
      "  %99 : Float(10, 160, 32, 32) = onnx::Concat[axis=1](%84, %86, %90, %94, %98) # <ipython-input-17-287da8f8cb5f>:28:0\n",
      "  %100 : Float(10, 160, 32, 32) = onnx::LeakyRelu[alpha=0.01](%99) # /usr/local/lib/python3.6/dist-packages/torch/nn/functional.py:1237:0\n",
      "  %101 : Float(10, 128, 32, 32) = onnx::ConvTranspose[dilations=[1, 1], group=1, kernel_shape=[1, 1], pads=[0, 0, 0, 0], strides=[1, 1]](%100, %transitionLayer1.0.conv.weight) # /usr/local/lib/python3.6/dist-packages/torch/nn/modules/conv.py:790:0\n",
      "  %102 : Float(10, 128, 32, 32) = onnx::LeakyRelu[alpha=0.01](%101) # /usr/local/lib/python3.6/dist-packages/torch/nn/functional.py:1237:0\n",
      "  %103 : Float(10, 128, 32, 32) = onnx::BatchNormalization[epsilon=1.0000000000000001e-05, momentum=0.90000000000000002](%102, %transitionLayer1.0.bn.weight, %transitionLayer1.0.bn.bias, %transitionLayer1.0.bn.running_mean, %transitionLayer1.0.bn.running_var) # /usr/local/lib/python3.6/dist-packages/torch/nn/functional.py:1923:0\n",
      "  %104 : Tensor = onnx::Pad[mode=\"constant\", pads=[0, 0, 0, 0, 0, 0, 0, 0], value=0.](%103)\n",
      "  %105 : Float(10, 128, 16, 16) = onnx::AveragePool[kernel_shape=[2, 2], pads=[0, 0, 0, 0], strides=[2, 2]](%104) # /usr/local/lib/python3.6/dist-packages/torch/nn/modules/pooling.py:554:0\n",
      "  %106 : Float(10, 128, 16, 16) = onnx::BatchNormalization[epsilon=1.0000000000000001e-05, momentum=0.90000000000000002](%105, %denseblock2.0.bn.weight, %denseblock2.0.bn.bias, %denseblock2.0.bn.running_mean, %denseblock2.0.bn.running_var) # /usr/local/lib/python3.6/dist-packages/torch/nn/functional.py:1923:0\n",
      "  %107 : Float(10, 32, 16, 16) = onnx::ConvTranspose[dilations=[1, 1], group=1, kernel_shape=[3, 3], pads=[1, 1, 1, 1], strides=[1, 1]](%106, %denseblock2.0.conv1.weight, %denseblock2.0.conv1.bias) # /usr/local/lib/python3.6/dist-packages/torch/nn/modules/conv.py:790:0\n",
      "  %108 : Float(10, 32, 16, 16) = onnx::LeakyRelu[alpha=0.01](%107) # /usr/local/lib/python3.6/dist-packages/torch/nn/functional.py:1237:0\n",
      "  %109 : Float(10, 32, 16, 16) = onnx::ConvTranspose[dilations=[1, 1], group=1, kernel_shape=[3, 3], pads=[1, 1, 1, 1], strides=[1, 1]](%108, %denseblock2.0.conv2.weight, %denseblock2.0.conv2.bias) # /usr/local/lib/python3.6/dist-packages/torch/nn/modules/conv.py:790:0\n",
      "  %110 : Float(10, 32, 16, 16) = onnx::LeakyRelu[alpha=0.01](%109) # /usr/local/lib/python3.6/dist-packages/torch/nn/functional.py:1237:0\n",
      "  %111 : Float(10, 64, 16, 16) = onnx::Concat[axis=1](%108, %110) # <ipython-input-17-287da8f8cb5f>:22:0\n",
      "  %112 : Float(10, 64, 16, 16) = onnx::LeakyRelu[alpha=0.01](%111) # /usr/local/lib/python3.6/dist-packages/torch/nn/functional.py:1237:0\n",
      "  %113 : Float(10, 32, 16, 16) = onnx::ConvTranspose[dilations=[1, 1], group=1, kernel_shape=[3, 3], pads=[1, 1, 1, 1], strides=[1, 1]](%112, %denseblock2.0.conv3.weight, %denseblock2.0.conv3.bias) # /usr/local/lib/python3.6/dist-packages/torch/nn/modules/conv.py:790:0\n",
      "  %114 : Float(10, 32, 16, 16) = onnx::LeakyRelu[alpha=0.01](%113) # /usr/local/lib/python3.6/dist-packages/torch/nn/functional.py:1237:0\n",
      "  %115 : Float(10, 96, 16, 16) = onnx::Concat[axis=1](%108, %110, %114) # <ipython-input-17-287da8f8cb5f>:24:0\n",
      "  %116 : Float(10, 96, 16, 16) = onnx::LeakyRelu[alpha=0.01](%115) # /usr/local/lib/python3.6/dist-packages/torch/nn/functional.py:1237:0\n",
      "  %117 : Float(10, 32, 16, 16) = onnx::ConvTranspose[dilations=[1, 1], group=1, kernel_shape=[3, 3], pads=[1, 1, 1, 1], strides=[1, 1]](%116, %denseblock2.0.conv4.weight, %denseblock2.0.conv4.bias) # /usr/local/lib/python3.6/dist-packages/torch/nn/modules/conv.py:790:0\n",
      "  %118 : Float(10, 32, 16, 16) = onnx::LeakyRelu[alpha=0.01](%117) # /usr/local/lib/python3.6/dist-packages/torch/nn/functional.py:1237:0\n",
      "  %119 : Float(10, 128, 16, 16) = onnx::Concat[axis=1](%108, %110, %114, %118) # <ipython-input-17-287da8f8cb5f>:26:0\n",
      "  %120 : Float(10, 128, 16, 16) = onnx::LeakyRelu[alpha=0.01](%119) # /usr/local/lib/python3.6/dist-packages/torch/nn/functional.py:1237:0\n",
      "  %121 : Float(10, 32, 16, 16) = onnx::ConvTranspose[dilations=[1, 1], group=1, kernel_shape=[3, 3], pads=[1, 1, 1, 1], strides=[1, 1]](%120, %denseblock2.0.conv5.weight, %denseblock2.0.conv5.bias) # /usr/local/lib/python3.6/dist-packages/torch/nn/modules/conv.py:790:0\n",
      "  %122 : Float(10, 32, 16, 16) = onnx::LeakyRelu[alpha=0.01](%121) # /usr/local/lib/python3.6/dist-packages/torch/nn/functional.py:1237:0\n",
      "  %123 : Float(10, 160, 16, 16) = onnx::Concat[axis=1](%108, %110, %114, %118, %122) # <ipython-input-17-287da8f8cb5f>:28:0\n",
      "  %124 : Float(10, 160, 16, 16) = onnx::LeakyRelu[alpha=0.01](%123) # /usr/local/lib/python3.6/dist-packages/torch/nn/functional.py:1237:0\n",
      "  %125 : Float(10, 128, 16, 16) = onnx::ConvTranspose[dilations=[1, 1], group=1, kernel_shape=[1, 1], pads=[0, 0, 0, 0], strides=[1, 1]](%124, %transitionLayer2.0.conv.weight) # /usr/local/lib/python3.6/dist-packages/torch/nn/modules/conv.py:790:0\n",
      "  %126 : Float(10, 128, 16, 16) = onnx::LeakyRelu[alpha=0.01](%125) # /usr/local/lib/python3.6/dist-packages/torch/nn/functional.py:1237:0\n",
      "  %127 : Float(10, 128, 16, 16) = onnx::BatchNormalization[epsilon=1.0000000000000001e-05, momentum=0.90000000000000002](%126, %transitionLayer2.0.bn.weight, %transitionLayer2.0.bn.bias, %transitionLayer2.0.bn.running_mean, %transitionLayer2.0.bn.running_var) # /usr/local/lib/python3.6/dist-packages/torch/nn/functional.py:1923:0\n",
      "  %128 : Tensor = onnx::Pad[mode=\"constant\", pads=[0, 0, 0, 0, 0, 0, 0, 0], value=0.](%127)\n",
      "  %129 : Float(10, 128, 8, 8) = onnx::AveragePool[kernel_shape=[2, 2], pads=[0, 0, 0, 0], strides=[2, 2]](%128) # /usr/local/lib/python3.6/dist-packages/torch/nn/modules/pooling.py:554:0\n",
      "  %130 : Float(10, 128, 8, 8) = onnx::BatchNormalization[epsilon=1.0000000000000001e-05, momentum=0.90000000000000002](%129, %denseblock3.0.bn.weight, %denseblock3.0.bn.bias, %denseblock3.0.bn.running_mean, %denseblock3.0.bn.running_var) # /usr/local/lib/python3.6/dist-packages/torch/nn/functional.py:1923:0\n",
      "  %131 : Float(10, 32, 8, 8) = onnx::ConvTranspose[dilations=[1, 1], group=1, kernel_shape=[3, 3], pads=[1, 1, 1, 1], strides=[1, 1]](%130, %denseblock3.0.conv1.weight, %denseblock3.0.conv1.bias) # /usr/local/lib/python3.6/dist-packages/torch/nn/modules/conv.py:790:0\n",
      "  %132 : Float(10, 32, 8, 8) = onnx::LeakyRelu[alpha=0.01](%131) # /usr/local/lib/python3.6/dist-packages/torch/nn/functional.py:1237:0\n",
      "  %133 : Float(10, 32, 8, 8) = onnx::ConvTranspose[dilations=[1, 1], group=1, kernel_shape=[3, 3], pads=[1, 1, 1, 1], strides=[1, 1]](%132, %denseblock3.0.conv2.weight, %denseblock3.0.conv2.bias) # /usr/local/lib/python3.6/dist-packages/torch/nn/modules/conv.py:790:0\n",
      "  %134 : Float(10, 32, 8, 8) = onnx::LeakyRelu[alpha=0.01](%133) # /usr/local/lib/python3.6/dist-packages/torch/nn/functional.py:1237:0\n",
      "  %135 : Float(10, 64, 8, 8) = onnx::Concat[axis=1](%132, %134) # <ipython-input-17-287da8f8cb5f>:22:0\n",
      "  %136 : Float(10, 64, 8, 8) = onnx::LeakyRelu[alpha=0.01](%135) # /usr/local/lib/python3.6/dist-packages/torch/nn/functional.py:1237:0\n",
      "  %137 : Float(10, 32, 8, 8) = onnx::ConvTranspose[dilations=[1, 1], group=1, kernel_shape=[3, 3], pads=[1, 1, 1, 1], strides=[1, 1]](%136, %denseblock3.0.conv3.weight, %denseblock3.0.conv3.bias) # /usr/local/lib/python3.6/dist-packages/torch/nn/modules/conv.py:790:0\n",
      "  %138 : Float(10, 32, 8, 8) = onnx::LeakyRelu[alpha=0.01](%137) # /usr/local/lib/python3.6/dist-packages/torch/nn/functional.py:1237:0\n",
      "  %139 : Float(10, 96, 8, 8) = onnx::Concat[axis=1](%132, %134, %138) # <ipython-input-17-287da8f8cb5f>:24:0\n",
      "  %140 : Float(10, 96, 8, 8) = onnx::LeakyRelu[alpha=0.01](%139) # /usr/local/lib/python3.6/dist-packages/torch/nn/functional.py:1237:0\n",
      "  %141 : Float(10, 32, 8, 8) = onnx::ConvTranspose[dilations=[1, 1], group=1, kernel_shape=[3, 3], pads=[1, 1, 1, 1], strides=[1, 1]](%140, %denseblock3.0.conv4.weight, %denseblock3.0.conv4.bias) # /usr/local/lib/python3.6/dist-packages/torch/nn/modules/conv.py:790:0\n",
      "  %142 : Float(10, 32, 8, 8) = onnx::LeakyRelu[alpha=0.01](%141) # /usr/local/lib/python3.6/dist-packages/torch/nn/functional.py:1237:0\n",
      "  %143 : Float(10, 128, 8, 8) = onnx::Concat[axis=1](%132, %134, %138, %142) # <ipython-input-17-287da8f8cb5f>:26:0\n",
      "  %144 : Float(10, 128, 8, 8) = onnx::LeakyRelu[alpha=0.01](%143) # /usr/local/lib/python3.6/dist-packages/torch/nn/functional.py:1237:0\n",
      "  %145 : Float(10, 32, 8, 8) = onnx::ConvTranspose[dilations=[1, 1], group=1, kernel_shape=[3, 3], pads=[1, 1, 1, 1], strides=[1, 1]](%144, %denseblock3.0.conv5.weight, %denseblock3.0.conv5.bias) # /usr/local/lib/python3.6/dist-packages/torch/nn/modules/conv.py:790:0\n",
      "  %146 : Float(10, 32, 8, 8) = onnx::LeakyRelu[alpha=0.01](%145) # /usr/local/lib/python3.6/dist-packages/torch/nn/functional.py:1237:0\n",
      "  %147 : Float(10, 160, 8, 8) = onnx::Concat[axis=1](%132, %134, %138, %142, %146) # <ipython-input-17-287da8f8cb5f>:28:0\n",
      "  %148 : Float(10, 160, 8, 8) = onnx::LeakyRelu[alpha=0.01](%147) # /usr/local/lib/python3.6/dist-packages/torch/nn/functional.py:1237:0\n",
      "  %149 : Float(10, 64, 8, 8) = onnx::ConvTranspose[dilations=[1, 1], group=1, kernel_shape=[1, 1], pads=[0, 0, 0, 0], strides=[1, 1]](%148, %transitionLayer3.0.conv.weight) # /usr/local/lib/python3.6/dist-packages/torch/nn/modules/conv.py:790:0\n",
      "  %150 : Float(10, 64, 8, 8) = onnx::LeakyRelu[alpha=0.01](%149) # /usr/local/lib/python3.6/dist-packages/torch/nn/functional.py:1237:0\n",
      "  %151 : Float(10, 64, 8, 8) = onnx::BatchNormalization[epsilon=1.0000000000000001e-05, momentum=0.90000000000000002](%150, %transitionLayer3.0.bn.weight, %transitionLayer3.0.bn.bias, %transitionLayer3.0.bn.running_mean, %transitionLayer3.0.bn.running_var) # /usr/local/lib/python3.6/dist-packages/torch/nn/functional.py:1923:0\n",
      "  %152 : Tensor = onnx::Pad[mode=\"constant\", pads=[0, 0, 0, 0, 0, 0, 0, 0], value=0.](%151)\n",
      "  %153 : Float(10, 64, 4, 4) = onnx::AveragePool[kernel_shape=[2, 2], pads=[0, 0, 0, 0], strides=[2, 2]](%152) # /usr/local/lib/python3.6/dist-packages/torch/nn/modules/pooling.py:554:0\n",
      "  %154 : Float(10, 64, 4, 4) = onnx::BatchNormalization[epsilon=1.0000000000000001e-05, momentum=0.90000000000000002](%153, %bn.weight, %bn.bias, %bn.running_mean, %bn.running_var) # /usr/local/lib/python3.6/dist-packages/torch/nn/functional.py:1923:0\n",
      "  %155 : Tensor = onnx::Constant[value=   -1  1024 [ CPULongType{2} ]]()\n",
      "  %156 : Float(10, 1024) = onnx::Reshape(%154, %155) # <ipython-input-17-287da8f8cb5f>:101:0\n",
      "  %157 : Float(10, 512) = onnx::Gemm[alpha=1., beta=1., transB=1](%156, %pre_classifier.weight, %pre_classifier.bias) # /usr/local/lib/python3.6/dist-packages/torch/nn/functional.py:1610:0\n",
      "  %output1 : Float(10, 10) = onnx::Gemm[alpha=1., beta=1., transB=1](%157, %classifier.weight, %classifier.bias) # /usr/local/lib/python3.6/dist-packages/torch/nn/functional.py:1610:0\n",
      "  return (%output1)\n",
      "\n"
     ]
    }
   ],
   "source": [
    "import torch\n",
    "import torchvision\n",
    "\n",
    "dummy_input = torch.randn(10, 3, 32, 32, device='cuda')\n",
    "load_model=load_model.cuda()\n",
    "\n",
    "# The inputs to the network consist of the flat list of inputs (i.e.\n",
    "# the values you would pass to the forward() method) followed by the\n",
    "# flat list of parameters. You can partially specify names, i.e. provide\n",
    "# a list here shorter than the number of inputs to the model, and we will\n",
    "# only set that subset of names, starting from the beginning.\n",
    "input_names = [ \"actual_input_1\" ] + [ \"learned_%d\" % i for i in range(5) ]\n",
    "output_names = [ \"output1\" ]\n",
    "\n",
    "torch.onnx.export(load_model, dummy_input, \"densenet_new.onnx\", verbose=True, input_names=input_names, output_names=output_names)"
   ]
  },
  {
   "cell_type": "code",
   "execution_count": 58,
   "metadata": {
    "colab": {
     "base_uri": "https://localhost:8080/",
     "height": 187
    },
    "colab_type": "code",
    "id": "TkRQI3qE-3UG",
    "outputId": "3d2e2197-bfba-41bf-a1ea-0d8335127f13"
   },
   "outputs": [
    {
     "name": "stdout",
     "output_type": "stream",
     "text": [
      "Collecting onnx\n",
      "\u001b[?25l  Downloading https://files.pythonhosted.org/packages/36/ee/bc7bc88fc8449266add978627e90c363069211584b937fd867b0ccc59f09/onnx-1.7.0-cp36-cp36m-manylinux1_x86_64.whl (7.4MB)\n",
      "\u001b[K     |████████████████████████████████| 7.4MB 4.8MB/s \n",
      "\u001b[?25hRequirement already satisfied: protobuf in /usr/local/lib/python3.6/dist-packages (from onnx) (3.10.0)\n",
      "Requirement already satisfied: six in /usr/local/lib/python3.6/dist-packages (from onnx) (1.12.0)\n",
      "Requirement already satisfied: typing-extensions>=3.6.2.1 in /usr/local/lib/python3.6/dist-packages (from onnx) (3.6.6)\n",
      "Requirement already satisfied: numpy in /usr/local/lib/python3.6/dist-packages (from onnx) (1.18.5)\n",
      "Requirement already satisfied: setuptools in /usr/local/lib/python3.6/dist-packages (from protobuf->onnx) (47.3.1)\n",
      "Installing collected packages: onnx\n",
      "Successfully installed onnx-1.7.0\n"
     ]
    }
   ],
   "source": [
    "!pip install onnx"
   ]
  },
  {
   "cell_type": "code",
   "execution_count": 59,
   "metadata": {
    "colab": {
     "base_uri": "https://localhost:8080/",
     "height": 54
    },
    "colab_type": "code",
    "id": "-K8oKh5b-3rN",
    "outputId": "7f214fa3-51e2-47ff-9346-e7f65d0b9813"
   },
   "outputs": [
    {
     "data": {
      "text/plain": [
       "\"graph torch-jit-export (\\n  %actual_input_1[FLOAT, 10x3x32x32]\\n) initializers (\\n  %bn.bias[FLOAT, 64]\\n  %bn.running_mean[FLOAT, 64]\\n  %bn.running_var[FLOAT, 64]\\n  %bn.weight[FLOAT, 64]\\n  %classifier.bias[FLOAT, 10]\\n  %classifier.weight[FLOAT, 10x512]\\n  %denseblock1.0.conv1.bias[FLOAT, 32]\\n  %denseblock1.0.conv1.weight[FLOAT, 64x32x3x3]\\n  %denseblock1.0.conv2.bias[FLOAT, 32]\\n  %denseblock1.0.conv2.weight[FLOAT, 32x32x3x3]\\n  %denseblock1.0.conv3.bias[FLOAT, 32]\\n  %denseblock1.0.conv3.weight[FLOAT, 64x32x3x3]\\n  %denseblock1.0.conv4.bias[FLOAT, 32]\\n  %denseblock1.0.conv4.weight[FLOAT, 96x32x3x3]\\n  %denseblock1.0.conv5.bias[FLOAT, 32]\\n  %denseblock1.0.conv5.weight[FLOAT, 128x32x3x3]\\n  %denseblock2.0.bn.bias[FLOAT, 128]\\n  %denseblock2.0.bn.running_mean[FLOAT, 128]\\n  %denseblock2.0.bn.running_var[FLOAT, 128]\\n  %denseblock2.0.bn.weight[FLOAT, 128]\\n  %denseblock2.0.conv1.bias[FLOAT, 32]\\n  %denseblock2.0.conv1.weight[FLOAT, 128x32x3x3]\\n  %denseblock2.0.conv2.bias[FLOAT, 32]\\n  %denseblock2.0.conv2.weight[FLOAT, 32x32x3x3]\\n  %denseblock2.0.conv3.bias[FLOAT, 32]\\n  %denseblock2.0.conv3.weight[FLOAT, 64x32x3x3]\\n  %denseblock2.0.conv4.bias[FLOAT, 32]\\n  %denseblock2.0.conv4.weight[FLOAT, 96x32x3x3]\\n  %denseblock2.0.conv5.bias[FLOAT, 32]\\n  %denseblock2.0.conv5.weight[FLOAT, 128x32x3x3]\\n  %denseblock3.0.bn.bias[FLOAT, 128]\\n  %denseblock3.0.bn.running_mean[FLOAT, 128]\\n  %denseblock3.0.bn.running_var[FLOAT, 128]\\n  %denseblock3.0.bn.weight[FLOAT, 128]\\n  %denseblock3.0.conv1.bias[FLOAT, 32]\\n  %denseblock3.0.conv1.weight[FLOAT, 128x32x3x3]\\n  %denseblock3.0.conv2.bias[FLOAT, 32]\\n  %denseblock3.0.conv2.weight[FLOAT, 32x32x3x3]\\n  %denseblock3.0.conv3.bias[FLOAT, 32]\\n  %denseblock3.0.conv3.weight[FLOAT, 64x32x3x3]\\n  %denseblock3.0.conv4.bias[FLOAT, 32]\\n  %denseblock3.0.conv4.weight[FLOAT, 96x32x3x3]\\n  %denseblock3.0.conv5.bias[FLOAT, 32]\\n  %denseblock3.0.conv5.weight[FLOAT, 128x32x3x3]\\n  %learned_0[FLOAT, 3x64x7x7]\\n  %learned_1[FLOAT, 64]\\n  %learned_2[FLOAT, 64]\\n  %learned_3[FLOAT, 64]\\n  %learned_4[FLOAT, 64]\\n  %pre_classifier.bias[FLOAT, 512]\\n  %pre_classifier.weight[FLOAT, 512x1024]\\n  %transitionLayer1.0.bn.bias[FLOAT, 128]\\n  %transitionLayer1.0.bn.running_mean[FLOAT, 128]\\n  %transitionLayer1.0.bn.running_var[FLOAT, 128]\\n  %transitionLayer1.0.bn.weight[FLOAT, 128]\\n  %transitionLayer1.0.conv.weight[FLOAT, 160x128x1x1]\\n  %transitionLayer2.0.bn.bias[FLOAT, 128]\\n  %transitionLayer2.0.bn.running_mean[FLOAT, 128]\\n  %transitionLayer2.0.bn.running_var[FLOAT, 128]\\n  %transitionLayer2.0.bn.weight[FLOAT, 128]\\n  %transitionLayer2.0.conv.weight[FLOAT, 160x128x1x1]\\n  %transitionLayer3.0.bn.bias[FLOAT, 64]\\n  %transitionLayer3.0.bn.running_mean[FLOAT, 64]\\n  %transitionLayer3.0.bn.running_var[FLOAT, 64]\\n  %transitionLayer3.0.bn.weight[FLOAT, 64]\\n  %transitionLayer3.0.conv.weight[FLOAT, 160x64x1x1]\\n) {\\n  %80 = ConvTranspose[dilations = [1, 1], group = 1, kernel_shape = [7, 7], pads = [3, 3, 3, 3], strides = [1, 1]](%actual_input_1, %learned_0)\\n  %81 = LeakyRelu[alpha = 0.00999999977648258](%80)\\n  %82 = BatchNormalization[epsilon = 9.99999974737875e-06, momentum = 0.899999976158142](%81, %learned_1, %learned_2, %learned_3, %learned_4)\\n  %83 = ConvTranspose[dilations = [1, 1], group = 1, kernel_shape = [3, 3], pads = [1, 1, 1, 1], strides = [1, 1]](%82, %denseblock1.0.conv1.weight, %denseblock1.0.conv1.bias)\\n  %84 = LeakyRelu[alpha = 0.00999999977648258](%83)\\n  %85 = ConvTranspose[dilations = [1, 1], group = 1, kernel_shape = [3, 3], pads = [1, 1, 1, 1], strides = [1, 1]](%84, %denseblock1.0.conv2.weight, %denseblock1.0.conv2.bias)\\n  %86 = LeakyRelu[alpha = 0.00999999977648258](%85)\\n  %87 = Concat[axis = 1](%84, %86)\\n  %88 = LeakyRelu[alpha = 0.00999999977648258](%87)\\n  %89 = ConvTranspose[dilations = [1, 1], group = 1, kernel_shape = [3, 3], pads = [1, 1, 1, 1], strides = [1, 1]](%88, %denseblock1.0.conv3.weight, %denseblock1.0.conv3.bias)\\n  %90 = LeakyRelu[alpha = 0.00999999977648258](%89)\\n  %91 = Concat[axis = 1](%84, %86, %90)\\n  %92 = LeakyRelu[alpha = 0.00999999977648258](%91)\\n  %93 = ConvTranspose[dilations = [1, 1], group = 1, kernel_shape = [3, 3], pads = [1, 1, 1, 1], strides = [1, 1]](%92, %denseblock1.0.conv4.weight, %denseblock1.0.conv4.bias)\\n  %94 = LeakyRelu[alpha = 0.00999999977648258](%93)\\n  %95 = Concat[axis = 1](%84, %86, %90, %94)\\n  %96 = LeakyRelu[alpha = 0.00999999977648258](%95)\\n  %97 = ConvTranspose[dilations = [1, 1], group = 1, kernel_shape = [3, 3], pads = [1, 1, 1, 1], strides = [1, 1]](%96, %denseblock1.0.conv5.weight, %denseblock1.0.conv5.bias)\\n  %98 = LeakyRelu[alpha = 0.00999999977648258](%97)\\n  %99 = Concat[axis = 1](%84, %86, %90, %94, %98)\\n  %100 = LeakyRelu[alpha = 0.00999999977648258](%99)\\n  %101 = ConvTranspose[dilations = [1, 1], group = 1, kernel_shape = [1, 1], pads = [0, 0, 0, 0], strides = [1, 1]](%100, %transitionLayer1.0.conv.weight)\\n  %102 = LeakyRelu[alpha = 0.00999999977648258](%101)\\n  %103 = BatchNormalization[epsilon = 9.99999974737875e-06, momentum = 0.899999976158142](%102, %transitionLayer1.0.bn.weight, %transitionLayer1.0.bn.bias, %transitionLayer1.0.bn.running_mean, %transitionLayer1.0.bn.running_var)\\n  %104 = Pad[mode = 'constant', pads = [0, 0, 0, 0, 0, 0, 0, 0], value = 0](%103)\\n  %105 = AveragePool[kernel_shape = [2, 2], pads = [0, 0, 0, 0], strides = [2, 2]](%104)\\n  %106 = BatchNormalization[epsilon = 9.99999974737875e-06, momentum = 0.899999976158142](%105, %denseblock2.0.bn.weight, %denseblock2.0.bn.bias, %denseblock2.0.bn.running_mean, %denseblock2.0.bn.running_var)\\n  %107 = ConvTranspose[dilations = [1, 1], group = 1, kernel_shape = [3, 3], pads = [1, 1, 1, 1], strides = [1, 1]](%106, %denseblock2.0.conv1.weight, %denseblock2.0.conv1.bias)\\n  %108 = LeakyRelu[alpha = 0.00999999977648258](%107)\\n  %109 = ConvTranspose[dilations = [1, 1], group = 1, kernel_shape = [3, 3], pads = [1, 1, 1, 1], strides = [1, 1]](%108, %denseblock2.0.conv2.weight, %denseblock2.0.conv2.bias)\\n  %110 = LeakyRelu[alpha = 0.00999999977648258](%109)\\n  %111 = Concat[axis = 1](%108, %110)\\n  %112 = LeakyRelu[alpha = 0.00999999977648258](%111)\\n  %113 = ConvTranspose[dilations = [1, 1], group = 1, kernel_shape = [3, 3], pads = [1, 1, 1, 1], strides = [1, 1]](%112, %denseblock2.0.conv3.weight, %denseblock2.0.conv3.bias)\\n  %114 = LeakyRelu[alpha = 0.00999999977648258](%113)\\n  %115 = Concat[axis = 1](%108, %110, %114)\\n  %116 = LeakyRelu[alpha = 0.00999999977648258](%115)\\n  %117 = ConvTranspose[dilations = [1, 1], group = 1, kernel_shape = [3, 3], pads = [1, 1, 1, 1], strides = [1, 1]](%116, %denseblock2.0.conv4.weight, %denseblock2.0.conv4.bias)\\n  %118 = LeakyRelu[alpha = 0.00999999977648258](%117)\\n  %119 = Concat[axis = 1](%108, %110, %114, %118)\\n  %120 = LeakyRelu[alpha = 0.00999999977648258](%119)\\n  %121 = ConvTranspose[dilations = [1, 1], group = 1, kernel_shape = [3, 3], pads = [1, 1, 1, 1], strides = [1, 1]](%120, %denseblock2.0.conv5.weight, %denseblock2.0.conv5.bias)\\n  %122 = LeakyRelu[alpha = 0.00999999977648258](%121)\\n  %123 = Concat[axis = 1](%108, %110, %114, %118, %122)\\n  %124 = LeakyRelu[alpha = 0.00999999977648258](%123)\\n  %125 = ConvTranspose[dilations = [1, 1], group = 1, kernel_shape = [1, 1], pads = [0, 0, 0, 0], strides = [1, 1]](%124, %transitionLayer2.0.conv.weight)\\n  %126 = LeakyRelu[alpha = 0.00999999977648258](%125)\\n  %127 = BatchNormalization[epsilon = 9.99999974737875e-06, momentum = 0.899999976158142](%126, %transitionLayer2.0.bn.weight, %transitionLayer2.0.bn.bias, %transitionLayer2.0.bn.running_mean, %transitionLayer2.0.bn.running_var)\\n  %128 = Pad[mode = 'constant', pads = [0, 0, 0, 0, 0, 0, 0, 0], value = 0](%127)\\n  %129 = AveragePool[kernel_shape = [2, 2], pads = [0, 0, 0, 0], strides = [2, 2]](%128)\\n  %130 = BatchNormalization[epsilon = 9.99999974737875e-06, momentum = 0.899999976158142](%129, %denseblock3.0.bn.weight, %denseblock3.0.bn.bias, %denseblock3.0.bn.running_mean, %denseblock3.0.bn.running_var)\\n  %131 = ConvTranspose[dilations = [1, 1], group = 1, kernel_shape = [3, 3], pads = [1, 1, 1, 1], strides = [1, 1]](%130, %denseblock3.0.conv1.weight, %denseblock3.0.conv1.bias)\\n  %132 = LeakyRelu[alpha = 0.00999999977648258](%131)\\n  %133 = ConvTranspose[dilations = [1, 1], group = 1, kernel_shape = [3, 3], pads = [1, 1, 1, 1], strides = [1, 1]](%132, %denseblock3.0.conv2.weight, %denseblock3.0.conv2.bias)\\n  %134 = LeakyRelu[alpha = 0.00999999977648258](%133)\\n  %135 = Concat[axis = 1](%132, %134)\\n  %136 = LeakyRelu[alpha = 0.00999999977648258](%135)\\n  %137 = ConvTranspose[dilations = [1, 1], group = 1, kernel_shape = [3, 3], pads = [1, 1, 1, 1], strides = [1, 1]](%136, %denseblock3.0.conv3.weight, %denseblock3.0.conv3.bias)\\n  %138 = LeakyRelu[alpha = 0.00999999977648258](%137)\\n  %139 = Concat[axis = 1](%132, %134, %138)\\n  %140 = LeakyRelu[alpha = 0.00999999977648258](%139)\\n  %141 = ConvTranspose[dilations = [1, 1], group = 1, kernel_shape = [3, 3], pads = [1, 1, 1, 1], strides = [1, 1]](%140, %denseblock3.0.conv4.weight, %denseblock3.0.conv4.bias)\\n  %142 = LeakyRelu[alpha = 0.00999999977648258](%141)\\n  %143 = Concat[axis = 1](%132, %134, %138, %142)\\n  %144 = LeakyRelu[alpha = 0.00999999977648258](%143)\\n  %145 = ConvTranspose[dilations = [1, 1], group = 1, kernel_shape = [3, 3], pads = [1, 1, 1, 1], strides = [1, 1]](%144, %denseblock3.0.conv5.weight, %denseblock3.0.conv5.bias)\\n  %146 = LeakyRelu[alpha = 0.00999999977648258](%145)\\n  %147 = Concat[axis = 1](%132, %134, %138, %142, %146)\\n  %148 = LeakyRelu[alpha = 0.00999999977648258](%147)\\n  %149 = ConvTranspose[dilations = [1, 1], group = 1, kernel_shape = [1, 1], pads = [0, 0, 0, 0], strides = [1, 1]](%148, %transitionLayer3.0.conv.weight)\\n  %150 = LeakyRelu[alpha = 0.00999999977648258](%149)\\n  %151 = BatchNormalization[epsilon = 9.99999974737875e-06, momentum = 0.899999976158142](%150, %transitionLayer3.0.bn.weight, %transitionLayer3.0.bn.bias, %transitionLayer3.0.bn.running_mean, %transitionLayer3.0.bn.running_var)\\n  %152 = Pad[mode = 'constant', pads = [0, 0, 0, 0, 0, 0, 0, 0], value = 0](%151)\\n  %153 = AveragePool[kernel_shape = [2, 2], pads = [0, 0, 0, 0], strides = [2, 2]](%152)\\n  %154 = BatchNormalization[epsilon = 9.99999974737875e-06, momentum = 0.899999976158142](%153, %bn.weight, %bn.bias, %bn.running_mean, %bn.running_var)\\n  %155 = Constant[value = <Tensor>]()\\n  %156 = Reshape(%154, %155)\\n  %157 = Gemm[alpha = 1, beta = 1, transB = 1](%156, %pre_classifier.weight, %pre_classifier.bias)\\n  %output1 = Gemm[alpha = 1, beta = 1, transB = 1](%157, %classifier.weight, %classifier.bias)\\n  return %output1\\n}\""
      ]
     },
     "execution_count": 59,
     "metadata": {
      "tags": []
     },
     "output_type": "execute_result"
    }
   ],
   "source": [
    "import onnx\n",
    "\n",
    "# Load the ONNX model\n",
    "model = onnx.load(\"densenet_new.onnx\")\n",
    "\n",
    "# Check that the IR is well formed\n",
    "onnx.checker.check_model(model)\n",
    "\n",
    "# Print a human readable representation of the graph\n",
    "onnx.helper.printable_graph(model.graph)"
   ]
  },
  {
   "cell_type": "code",
   "execution_count": null,
   "metadata": {
    "colab": {},
    "colab_type": "code",
    "id": "duAVwqADEXIR"
   },
   "outputs": [],
   "source": []
  },
  {
   "cell_type": "code",
   "execution_count": null,
   "metadata": {
    "colab": {},
    "colab_type": "code",
    "id": "MZrLv2sEEXFy"
   },
   "outputs": [],
   "source": []
  }
 ],
 "metadata": {
  "accelerator": "GPU",
  "colab": {
   "collapsed_sections": [],
   "name": "Densent_model.ipynb",
   "provenance": []
  },
  "kernelspec": {
   "display_name": "Python 3",
   "language": "python",
   "name": "python3"
  },
  "language_info": {
   "codemirror_mode": {
    "name": "ipython",
    "version": 3
   },
   "file_extension": ".py",
   "mimetype": "text/x-python",
   "name": "python",
   "nbconvert_exporter": "python",
   "pygments_lexer": "ipython3",
   "version": "3.7.4"
  },
  "toc": {
   "base_numbering": 1,
   "nav_menu": {},
   "number_sections": false,
   "sideBar": false,
   "skip_h1_title": false,
   "title_cell": "Table of Contents",
   "title_sidebar": "Contents",
   "toc_cell": false,
   "toc_position": {},
   "toc_section_display": false,
   "toc_window_display": false
  },
  "widgets": {
   "application/vnd.jupyter.widget-state+json": {
    "78412d30033d404ab0b35ecabb25b9f9": {
     "model_module": "@jupyter-widgets/controls",
     "model_name": "ProgressStyleModel",
     "state": {
      "_model_module": "@jupyter-widgets/controls",
      "_model_module_version": "1.5.0",
      "_model_name": "ProgressStyleModel",
      "_view_count": null,
      "_view_module": "@jupyter-widgets/base",
      "_view_module_version": "1.2.0",
      "_view_name": "StyleView",
      "bar_color": null,
      "description_width": "initial"
     }
    },
    "78e32bc299794fb0aa1752a48711920d": {
     "model_module": "@jupyter-widgets/controls",
     "model_name": "HBoxModel",
     "state": {
      "_dom_classes": [],
      "_model_module": "@jupyter-widgets/controls",
      "_model_module_version": "1.5.0",
      "_model_name": "HBoxModel",
      "_view_count": null,
      "_view_module": "@jupyter-widgets/controls",
      "_view_module_version": "1.5.0",
      "_view_name": "HBoxView",
      "box_style": "",
      "children": [
       "IPY_MODEL_85d55b4c648348c7aee9744735884d79",
       "IPY_MODEL_e527edfb95744277be46cab54d81e107"
      ],
      "layout": "IPY_MODEL_cf7b45c1b9f84dd3aa4cd597bea32959"
     }
    },
    "85d55b4c648348c7aee9744735884d79": {
     "model_module": "@jupyter-widgets/controls",
     "model_name": "FloatProgressModel",
     "state": {
      "_dom_classes": [],
      "_model_module": "@jupyter-widgets/controls",
      "_model_module_version": "1.5.0",
      "_model_name": "FloatProgressModel",
      "_view_count": null,
      "_view_module": "@jupyter-widgets/controls",
      "_view_module_version": "1.5.0",
      "_view_name": "ProgressView",
      "bar_style": "info",
      "description": "",
      "description_tooltip": null,
      "layout": "IPY_MODEL_9e7d95bb37334bd3b5ef15e43261e5f6",
      "max": 1,
      "min": 0,
      "orientation": "horizontal",
      "style": "IPY_MODEL_78412d30033d404ab0b35ecabb25b9f9",
      "value": 1
     }
    },
    "9618d6f7730d403d810e5cadf3a80ece": {
     "model_module": "@jupyter-widgets/controls",
     "model_name": "DescriptionStyleModel",
     "state": {
      "_model_module": "@jupyter-widgets/controls",
      "_model_module_version": "1.5.0",
      "_model_name": "DescriptionStyleModel",
      "_view_count": null,
      "_view_module": "@jupyter-widgets/base",
      "_view_module_version": "1.2.0",
      "_view_name": "StyleView",
      "description_width": ""
     }
    },
    "9e7d95bb37334bd3b5ef15e43261e5f6": {
     "model_module": "@jupyter-widgets/base",
     "model_name": "LayoutModel",
     "state": {
      "_model_module": "@jupyter-widgets/base",
      "_model_module_version": "1.2.0",
      "_model_name": "LayoutModel",
      "_view_count": null,
      "_view_module": "@jupyter-widgets/base",
      "_view_module_version": "1.2.0",
      "_view_name": "LayoutView",
      "align_content": null,
      "align_items": null,
      "align_self": null,
      "border": null,
      "bottom": null,
      "display": null,
      "flex": null,
      "flex_flow": null,
      "grid_area": null,
      "grid_auto_columns": null,
      "grid_auto_flow": null,
      "grid_auto_rows": null,
      "grid_column": null,
      "grid_gap": null,
      "grid_row": null,
      "grid_template_areas": null,
      "grid_template_columns": null,
      "grid_template_rows": null,
      "height": null,
      "justify_content": null,
      "justify_items": null,
      "left": null,
      "margin": null,
      "max_height": null,
      "max_width": null,
      "min_height": null,
      "min_width": null,
      "object_fit": null,
      "object_position": null,
      "order": null,
      "overflow": null,
      "overflow_x": null,
      "overflow_y": null,
      "padding": null,
      "right": null,
      "top": null,
      "visibility": null,
      "width": null
     }
    },
    "b4335aa5a9694e95b742247af8c034f3": {
     "model_module": "@jupyter-widgets/base",
     "model_name": "LayoutModel",
     "state": {
      "_model_module": "@jupyter-widgets/base",
      "_model_module_version": "1.2.0",
      "_model_name": "LayoutModel",
      "_view_count": null,
      "_view_module": "@jupyter-widgets/base",
      "_view_module_version": "1.2.0",
      "_view_name": "LayoutView",
      "align_content": null,
      "align_items": null,
      "align_self": null,
      "border": null,
      "bottom": null,
      "display": null,
      "flex": null,
      "flex_flow": null,
      "grid_area": null,
      "grid_auto_columns": null,
      "grid_auto_flow": null,
      "grid_auto_rows": null,
      "grid_column": null,
      "grid_gap": null,
      "grid_row": null,
      "grid_template_areas": null,
      "grid_template_columns": null,
      "grid_template_rows": null,
      "height": null,
      "justify_content": null,
      "justify_items": null,
      "left": null,
      "margin": null,
      "max_height": null,
      "max_width": null,
      "min_height": null,
      "min_width": null,
      "object_fit": null,
      "object_position": null,
      "order": null,
      "overflow": null,
      "overflow_x": null,
      "overflow_y": null,
      "padding": null,
      "right": null,
      "top": null,
      "visibility": null,
      "width": null
     }
    },
    "cf7b45c1b9f84dd3aa4cd597bea32959": {
     "model_module": "@jupyter-widgets/base",
     "model_name": "LayoutModel",
     "state": {
      "_model_module": "@jupyter-widgets/base",
      "_model_module_version": "1.2.0",
      "_model_name": "LayoutModel",
      "_view_count": null,
      "_view_module": "@jupyter-widgets/base",
      "_view_module_version": "1.2.0",
      "_view_name": "LayoutView",
      "align_content": null,
      "align_items": null,
      "align_self": null,
      "border": null,
      "bottom": null,
      "display": null,
      "flex": null,
      "flex_flow": null,
      "grid_area": null,
      "grid_auto_columns": null,
      "grid_auto_flow": null,
      "grid_auto_rows": null,
      "grid_column": null,
      "grid_gap": null,
      "grid_row": null,
      "grid_template_areas": null,
      "grid_template_columns": null,
      "grid_template_rows": null,
      "height": null,
      "justify_content": null,
      "justify_items": null,
      "left": null,
      "margin": null,
      "max_height": null,
      "max_width": null,
      "min_height": null,
      "min_width": null,
      "object_fit": null,
      "object_position": null,
      "order": null,
      "overflow": null,
      "overflow_x": null,
      "overflow_y": null,
      "padding": null,
      "right": null,
      "top": null,
      "visibility": null,
      "width": null
     }
    },
    "e527edfb95744277be46cab54d81e107": {
     "model_module": "@jupyter-widgets/controls",
     "model_name": "HTMLModel",
     "state": {
      "_dom_classes": [],
      "_model_module": "@jupyter-widgets/controls",
      "_model_module_version": "1.5.0",
      "_model_name": "HTMLModel",
      "_view_count": null,
      "_view_module": "@jupyter-widgets/controls",
      "_view_module_version": "1.5.0",
      "_view_name": "HTMLView",
      "description": "",
      "description_tooltip": null,
      "layout": "IPY_MODEL_b4335aa5a9694e95b742247af8c034f3",
      "placeholder": "​",
      "style": "IPY_MODEL_9618d6f7730d403d810e5cadf3a80ece",
      "value": " 170500096/? [00:22&lt;00:00, 34466075.76it/s]"
     }
    }
   }
  }
 },
 "nbformat": 4,
 "nbformat_minor": 1
}
